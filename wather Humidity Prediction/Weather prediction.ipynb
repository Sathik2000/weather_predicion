{
 "cells": [
  {
   "cell_type": "code",
   "execution_count": 633,
   "id": "e725d7b6",
   "metadata": {},
   "outputs": [],
   "source": [
    "import numpy as np \n",
    "import pandas as pd"
   ]
  },
  {
   "cell_type": "code",
   "execution_count": 634,
   "id": "a0abf430",
   "metadata": {},
   "outputs": [],
   "source": [
    "df=pd.read_csv('daily_weather.csv')"
   ]
  },
  {
   "cell_type": "code",
   "execution_count": 635,
   "id": "1b2a273e",
   "metadata": {},
   "outputs": [
    {
     "data": {
      "text/html": [
       "<div>\n",
       "<style scoped>\n",
       "    .dataframe tbody tr th:only-of-type {\n",
       "        vertical-align: middle;\n",
       "    }\n",
       "\n",
       "    .dataframe tbody tr th {\n",
       "        vertical-align: top;\n",
       "    }\n",
       "\n",
       "    .dataframe thead th {\n",
       "        text-align: right;\n",
       "    }\n",
       "</style>\n",
       "<table border=\"1\" class=\"dataframe\">\n",
       "  <thead>\n",
       "    <tr style=\"text-align: right;\">\n",
       "      <th></th>\n",
       "      <th>number</th>\n",
       "      <th>air_pressure_9am</th>\n",
       "      <th>air_temp_9am</th>\n",
       "      <th>avg_wind_direction_9am</th>\n",
       "      <th>avg_wind_speed_9am</th>\n",
       "      <th>max_wind_direction_9am</th>\n",
       "      <th>max_wind_speed_9am</th>\n",
       "      <th>rain_accumulation_9am</th>\n",
       "      <th>rain_duration_9am</th>\n",
       "      <th>relative_humidity_9am</th>\n",
       "      <th>relative_humidity_3pm</th>\n",
       "    </tr>\n",
       "  </thead>\n",
       "  <tbody>\n",
       "    <tr>\n",
       "      <th>0</th>\n",
       "      <td>0</td>\n",
       "      <td>918.060000</td>\n",
       "      <td>74.822000</td>\n",
       "      <td>271.100000</td>\n",
       "      <td>2.080354</td>\n",
       "      <td>295.400000</td>\n",
       "      <td>2.863283</td>\n",
       "      <td>0.0</td>\n",
       "      <td>0.0</td>\n",
       "      <td>42.420000</td>\n",
       "      <td>36.160000</td>\n",
       "    </tr>\n",
       "    <tr>\n",
       "      <th>1</th>\n",
       "      <td>1</td>\n",
       "      <td>917.347688</td>\n",
       "      <td>71.403843</td>\n",
       "      <td>101.935179</td>\n",
       "      <td>2.443009</td>\n",
       "      <td>140.471548</td>\n",
       "      <td>3.533324</td>\n",
       "      <td>0.0</td>\n",
       "      <td>0.0</td>\n",
       "      <td>24.328697</td>\n",
       "      <td>19.426597</td>\n",
       "    </tr>\n",
       "    <tr>\n",
       "      <th>2</th>\n",
       "      <td>2</td>\n",
       "      <td>923.040000</td>\n",
       "      <td>60.638000</td>\n",
       "      <td>51.000000</td>\n",
       "      <td>17.067852</td>\n",
       "      <td>63.700000</td>\n",
       "      <td>22.100967</td>\n",
       "      <td>0.0</td>\n",
       "      <td>20.0</td>\n",
       "      <td>8.900000</td>\n",
       "      <td>14.460000</td>\n",
       "    </tr>\n",
       "  </tbody>\n",
       "</table>\n",
       "</div>"
      ],
      "text/plain": [
       "   number  air_pressure_9am  air_temp_9am  avg_wind_direction_9am  \\\n",
       "0       0        918.060000     74.822000              271.100000   \n",
       "1       1        917.347688     71.403843              101.935179   \n",
       "2       2        923.040000     60.638000               51.000000   \n",
       "\n",
       "   avg_wind_speed_9am  max_wind_direction_9am  max_wind_speed_9am  \\\n",
       "0            2.080354              295.400000            2.863283   \n",
       "1            2.443009              140.471548            3.533324   \n",
       "2           17.067852               63.700000           22.100967   \n",
       "\n",
       "   rain_accumulation_9am  rain_duration_9am  relative_humidity_9am  \\\n",
       "0                    0.0                0.0              42.420000   \n",
       "1                    0.0                0.0              24.328697   \n",
       "2                    0.0               20.0               8.900000   \n",
       "\n",
       "   relative_humidity_3pm  \n",
       "0              36.160000  \n",
       "1              19.426597  \n",
       "2              14.460000  "
      ]
     },
     "execution_count": 635,
     "metadata": {},
     "output_type": "execute_result"
    }
   ],
   "source": [
    "df.head(3)"
   ]
  },
  {
   "cell_type": "code",
   "execution_count": 636,
   "id": "fb68987b",
   "metadata": {},
   "outputs": [
    {
     "data": {
      "text/html": [
       "<div>\n",
       "<style scoped>\n",
       "    .dataframe tbody tr th:only-of-type {\n",
       "        vertical-align: middle;\n",
       "    }\n",
       "\n",
       "    .dataframe tbody tr th {\n",
       "        vertical-align: top;\n",
       "    }\n",
       "\n",
       "    .dataframe thead th {\n",
       "        text-align: right;\n",
       "    }\n",
       "</style>\n",
       "<table border=\"1\" class=\"dataframe\">\n",
       "  <thead>\n",
       "    <tr style=\"text-align: right;\">\n",
       "      <th></th>\n",
       "      <th>number</th>\n",
       "      <th>air_pressure_9am</th>\n",
       "      <th>air_temp_9am</th>\n",
       "      <th>avg_wind_direction_9am</th>\n",
       "      <th>avg_wind_speed_9am</th>\n",
       "      <th>max_wind_direction_9am</th>\n",
       "      <th>max_wind_speed_9am</th>\n",
       "      <th>rain_accumulation_9am</th>\n",
       "      <th>rain_duration_9am</th>\n",
       "      <th>relative_humidity_9am</th>\n",
       "      <th>relative_humidity_3pm</th>\n",
       "    </tr>\n",
       "  </thead>\n",
       "  <tbody>\n",
       "    <tr>\n",
       "      <th>1090</th>\n",
       "      <td>1090</td>\n",
       "      <td>918.90</td>\n",
       "      <td>63.104</td>\n",
       "      <td>192.9</td>\n",
       "      <td>3.869906</td>\n",
       "      <td>207.3</td>\n",
       "      <td>5.212070</td>\n",
       "      <td>0.0</td>\n",
       "      <td>0.0</td>\n",
       "      <td>26.02</td>\n",
       "      <td>38.18</td>\n",
       "    </tr>\n",
       "    <tr>\n",
       "      <th>1091</th>\n",
       "      <td>1091</td>\n",
       "      <td>918.71</td>\n",
       "      <td>49.568</td>\n",
       "      <td>241.6</td>\n",
       "      <td>1.811921</td>\n",
       "      <td>227.4</td>\n",
       "      <td>2.371156</td>\n",
       "      <td>0.0</td>\n",
       "      <td>0.0</td>\n",
       "      <td>90.35</td>\n",
       "      <td>73.34</td>\n",
       "    </tr>\n",
       "    <tr>\n",
       "      <th>1092</th>\n",
       "      <td>1092</td>\n",
       "      <td>916.60</td>\n",
       "      <td>71.096</td>\n",
       "      <td>189.3</td>\n",
       "      <td>3.064608</td>\n",
       "      <td>200.8</td>\n",
       "      <td>3.892276</td>\n",
       "      <td>0.0</td>\n",
       "      <td>0.0</td>\n",
       "      <td>45.59</td>\n",
       "      <td>52.31</td>\n",
       "    </tr>\n",
       "    <tr>\n",
       "      <th>1093</th>\n",
       "      <td>1093</td>\n",
       "      <td>912.60</td>\n",
       "      <td>58.406</td>\n",
       "      <td>172.7</td>\n",
       "      <td>3.825167</td>\n",
       "      <td>189.1</td>\n",
       "      <td>4.764682</td>\n",
       "      <td>0.0</td>\n",
       "      <td>0.0</td>\n",
       "      <td>64.84</td>\n",
       "      <td>58.28</td>\n",
       "    </tr>\n",
       "    <tr>\n",
       "      <th>1094</th>\n",
       "      <td>1094</td>\n",
       "      <td>921.53</td>\n",
       "      <td>77.702</td>\n",
       "      <td>97.1</td>\n",
       "      <td>3.265932</td>\n",
       "      <td>125.9</td>\n",
       "      <td>4.451511</td>\n",
       "      <td>0.0</td>\n",
       "      <td>0.0</td>\n",
       "      <td>14.56</td>\n",
       "      <td>15.10</td>\n",
       "    </tr>\n",
       "  </tbody>\n",
       "</table>\n",
       "</div>"
      ],
      "text/plain": [
       "      number  air_pressure_9am  air_temp_9am  avg_wind_direction_9am  \\\n",
       "1090    1090            918.90        63.104                   192.9   \n",
       "1091    1091            918.71        49.568                   241.6   \n",
       "1092    1092            916.60        71.096                   189.3   \n",
       "1093    1093            912.60        58.406                   172.7   \n",
       "1094    1094            921.53        77.702                    97.1   \n",
       "\n",
       "      avg_wind_speed_9am  max_wind_direction_9am  max_wind_speed_9am  \\\n",
       "1090            3.869906                   207.3            5.212070   \n",
       "1091            1.811921                   227.4            2.371156   \n",
       "1092            3.064608                   200.8            3.892276   \n",
       "1093            3.825167                   189.1            4.764682   \n",
       "1094            3.265932                   125.9            4.451511   \n",
       "\n",
       "      rain_accumulation_9am  rain_duration_9am  relative_humidity_9am  \\\n",
       "1090                    0.0                0.0                  26.02   \n",
       "1091                    0.0                0.0                  90.35   \n",
       "1092                    0.0                0.0                  45.59   \n",
       "1093                    0.0                0.0                  64.84   \n",
       "1094                    0.0                0.0                  14.56   \n",
       "\n",
       "      relative_humidity_3pm  \n",
       "1090                  38.18  \n",
       "1091                  73.34  \n",
       "1092                  52.31  \n",
       "1093                  58.28  \n",
       "1094                  15.10  "
      ]
     },
     "execution_count": 636,
     "metadata": {},
     "output_type": "execute_result"
    }
   ],
   "source": [
    "df.tail()"
   ]
  },
  {
   "cell_type": "code",
   "execution_count": 637,
   "id": "44bf59b3",
   "metadata": {},
   "outputs": [
    {
     "data": {
      "text/plain": [
       "(1095, 11)"
      ]
     },
     "execution_count": 637,
     "metadata": {},
     "output_type": "execute_result"
    }
   ],
   "source": [
    "df.shape"
   ]
  },
  {
   "cell_type": "code",
   "execution_count": 638,
   "id": "b2a20eef",
   "metadata": {},
   "outputs": [
    {
     "data": {
      "text/plain": [
       "number                    0\n",
       "air_pressure_9am          3\n",
       "air_temp_9am              5\n",
       "avg_wind_direction_9am    4\n",
       "avg_wind_speed_9am        3\n",
       "max_wind_direction_9am    3\n",
       "max_wind_speed_9am        4\n",
       "rain_accumulation_9am     6\n",
       "rain_duration_9am         3\n",
       "relative_humidity_9am     0\n",
       "relative_humidity_3pm     0\n",
       "dtype: int64"
      ]
     },
     "execution_count": 638,
     "metadata": {},
     "output_type": "execute_result"
    }
   ],
   "source": [
    "df.isnull().sum()"
   ]
  },
  {
   "cell_type": "code",
   "execution_count": 639,
   "id": "2cadab13",
   "metadata": {},
   "outputs": [],
   "source": [
    "df.dropna(inplace=True)"
   ]
  },
  {
   "cell_type": "code",
   "execution_count": 640,
   "id": "23d63795",
   "metadata": {},
   "outputs": [
    {
     "data": {
      "text/plain": [
       "number                    0\n",
       "air_pressure_9am          0\n",
       "air_temp_9am              0\n",
       "avg_wind_direction_9am    0\n",
       "avg_wind_speed_9am        0\n",
       "max_wind_direction_9am    0\n",
       "max_wind_speed_9am        0\n",
       "rain_accumulation_9am     0\n",
       "rain_duration_9am         0\n",
       "relative_humidity_9am     0\n",
       "relative_humidity_3pm     0\n",
       "dtype: int64"
      ]
     },
     "execution_count": 640,
     "metadata": {},
     "output_type": "execute_result"
    }
   ],
   "source": [
    "df.isnull().sum()"
   ]
  },
  {
   "cell_type": "code",
   "execution_count": 641,
   "id": "ee12f973",
   "metadata": {},
   "outputs": [
    {
     "data": {
      "text/html": [
       "<div>\n",
       "<style scoped>\n",
       "    .dataframe tbody tr th:only-of-type {\n",
       "        vertical-align: middle;\n",
       "    }\n",
       "\n",
       "    .dataframe tbody tr th {\n",
       "        vertical-align: top;\n",
       "    }\n",
       "\n",
       "    .dataframe thead th {\n",
       "        text-align: right;\n",
       "    }\n",
       "</style>\n",
       "<table border=\"1\" class=\"dataframe\">\n",
       "  <thead>\n",
       "    <tr style=\"text-align: right;\">\n",
       "      <th></th>\n",
       "      <th>number</th>\n",
       "      <th>air_pressure_9am</th>\n",
       "      <th>air_temp_9am</th>\n",
       "      <th>avg_wind_direction_9am</th>\n",
       "      <th>avg_wind_speed_9am</th>\n",
       "      <th>max_wind_direction_9am</th>\n",
       "      <th>max_wind_speed_9am</th>\n",
       "      <th>rain_accumulation_9am</th>\n",
       "      <th>rain_duration_9am</th>\n",
       "      <th>relative_humidity_9am</th>\n",
       "      <th>relative_humidity_3pm</th>\n",
       "    </tr>\n",
       "  </thead>\n",
       "  <tbody>\n",
       "    <tr>\n",
       "      <th>0</th>\n",
       "      <td>0</td>\n",
       "      <td>918.060000</td>\n",
       "      <td>74.822000</td>\n",
       "      <td>271.100000</td>\n",
       "      <td>2.080354</td>\n",
       "      <td>295.400000</td>\n",
       "      <td>2.863283</td>\n",
       "      <td>0.0</td>\n",
       "      <td>0.0</td>\n",
       "      <td>42.420000</td>\n",
       "      <td>36.160000</td>\n",
       "    </tr>\n",
       "    <tr>\n",
       "      <th>1</th>\n",
       "      <td>1</td>\n",
       "      <td>917.347688</td>\n",
       "      <td>71.403843</td>\n",
       "      <td>101.935179</td>\n",
       "      <td>2.443009</td>\n",
       "      <td>140.471548</td>\n",
       "      <td>3.533324</td>\n",
       "      <td>0.0</td>\n",
       "      <td>0.0</td>\n",
       "      <td>24.328697</td>\n",
       "      <td>19.426597</td>\n",
       "    </tr>\n",
       "  </tbody>\n",
       "</table>\n",
       "</div>"
      ],
      "text/plain": [
       "   number  air_pressure_9am  air_temp_9am  avg_wind_direction_9am  \\\n",
       "0       0        918.060000     74.822000              271.100000   \n",
       "1       1        917.347688     71.403843              101.935179   \n",
       "\n",
       "   avg_wind_speed_9am  max_wind_direction_9am  max_wind_speed_9am  \\\n",
       "0            2.080354              295.400000            2.863283   \n",
       "1            2.443009              140.471548            3.533324   \n",
       "\n",
       "   rain_accumulation_9am  rain_duration_9am  relative_humidity_9am  \\\n",
       "0                    0.0                0.0              42.420000   \n",
       "1                    0.0                0.0              24.328697   \n",
       "\n",
       "   relative_humidity_3pm  \n",
       "0              36.160000  \n",
       "1              19.426597  "
      ]
     },
     "execution_count": 641,
     "metadata": {},
     "output_type": "execute_result"
    }
   ],
   "source": [
    "df.head(2)"
   ]
  },
  {
   "cell_type": "code",
   "execution_count": 642,
   "id": "6d78a07f",
   "metadata": {},
   "outputs": [],
   "source": [
    "df.drop(columns='number',inplace=True)"
   ]
  },
  {
   "cell_type": "code",
   "execution_count": 643,
   "id": "0dbb867a",
   "metadata": {},
   "outputs": [
    {
     "data": {
      "text/html": [
       "<div>\n",
       "<style scoped>\n",
       "    .dataframe tbody tr th:only-of-type {\n",
       "        vertical-align: middle;\n",
       "    }\n",
       "\n",
       "    .dataframe tbody tr th {\n",
       "        vertical-align: top;\n",
       "    }\n",
       "\n",
       "    .dataframe thead th {\n",
       "        text-align: right;\n",
       "    }\n",
       "</style>\n",
       "<table border=\"1\" class=\"dataframe\">\n",
       "  <thead>\n",
       "    <tr style=\"text-align: right;\">\n",
       "      <th></th>\n",
       "      <th>air_pressure_9am</th>\n",
       "      <th>air_temp_9am</th>\n",
       "      <th>avg_wind_direction_9am</th>\n",
       "      <th>avg_wind_speed_9am</th>\n",
       "      <th>max_wind_direction_9am</th>\n",
       "      <th>max_wind_speed_9am</th>\n",
       "      <th>rain_accumulation_9am</th>\n",
       "      <th>rain_duration_9am</th>\n",
       "      <th>relative_humidity_9am</th>\n",
       "      <th>relative_humidity_3pm</th>\n",
       "    </tr>\n",
       "  </thead>\n",
       "  <tbody>\n",
       "    <tr>\n",
       "      <th>0</th>\n",
       "      <td>918.060000</td>\n",
       "      <td>74.822000</td>\n",
       "      <td>271.100000</td>\n",
       "      <td>2.080354</td>\n",
       "      <td>295.400000</td>\n",
       "      <td>2.863283</td>\n",
       "      <td>0.0</td>\n",
       "      <td>0.0</td>\n",
       "      <td>42.420000</td>\n",
       "      <td>36.160000</td>\n",
       "    </tr>\n",
       "    <tr>\n",
       "      <th>1</th>\n",
       "      <td>917.347688</td>\n",
       "      <td>71.403843</td>\n",
       "      <td>101.935179</td>\n",
       "      <td>2.443009</td>\n",
       "      <td>140.471548</td>\n",
       "      <td>3.533324</td>\n",
       "      <td>0.0</td>\n",
       "      <td>0.0</td>\n",
       "      <td>24.328697</td>\n",
       "      <td>19.426597</td>\n",
       "    </tr>\n",
       "    <tr>\n",
       "      <th>2</th>\n",
       "      <td>923.040000</td>\n",
       "      <td>60.638000</td>\n",
       "      <td>51.000000</td>\n",
       "      <td>17.067852</td>\n",
       "      <td>63.700000</td>\n",
       "      <td>22.100967</td>\n",
       "      <td>0.0</td>\n",
       "      <td>20.0</td>\n",
       "      <td>8.900000</td>\n",
       "      <td>14.460000</td>\n",
       "    </tr>\n",
       "    <tr>\n",
       "      <th>3</th>\n",
       "      <td>920.502751</td>\n",
       "      <td>70.138895</td>\n",
       "      <td>198.832133</td>\n",
       "      <td>4.337363</td>\n",
       "      <td>211.203341</td>\n",
       "      <td>5.190045</td>\n",
       "      <td>0.0</td>\n",
       "      <td>0.0</td>\n",
       "      <td>12.189102</td>\n",
       "      <td>12.742547</td>\n",
       "    </tr>\n",
       "    <tr>\n",
       "      <th>4</th>\n",
       "      <td>921.160000</td>\n",
       "      <td>44.294000</td>\n",
       "      <td>277.800000</td>\n",
       "      <td>1.856660</td>\n",
       "      <td>136.500000</td>\n",
       "      <td>2.863283</td>\n",
       "      <td>8.9</td>\n",
       "      <td>14730.0</td>\n",
       "      <td>92.410000</td>\n",
       "      <td>76.740000</td>\n",
       "    </tr>\n",
       "    <tr>\n",
       "      <th>...</th>\n",
       "      <td>...</td>\n",
       "      <td>...</td>\n",
       "      <td>...</td>\n",
       "      <td>...</td>\n",
       "      <td>...</td>\n",
       "      <td>...</td>\n",
       "      <td>...</td>\n",
       "      <td>...</td>\n",
       "      <td>...</td>\n",
       "      <td>...</td>\n",
       "    </tr>\n",
       "    <tr>\n",
       "      <th>1090</th>\n",
       "      <td>918.900000</td>\n",
       "      <td>63.104000</td>\n",
       "      <td>192.900000</td>\n",
       "      <td>3.869906</td>\n",
       "      <td>207.300000</td>\n",
       "      <td>5.212070</td>\n",
       "      <td>0.0</td>\n",
       "      <td>0.0</td>\n",
       "      <td>26.020000</td>\n",
       "      <td>38.180000</td>\n",
       "    </tr>\n",
       "    <tr>\n",
       "      <th>1091</th>\n",
       "      <td>918.710000</td>\n",
       "      <td>49.568000</td>\n",
       "      <td>241.600000</td>\n",
       "      <td>1.811921</td>\n",
       "      <td>227.400000</td>\n",
       "      <td>2.371156</td>\n",
       "      <td>0.0</td>\n",
       "      <td>0.0</td>\n",
       "      <td>90.350000</td>\n",
       "      <td>73.340000</td>\n",
       "    </tr>\n",
       "    <tr>\n",
       "      <th>1092</th>\n",
       "      <td>916.600000</td>\n",
       "      <td>71.096000</td>\n",
       "      <td>189.300000</td>\n",
       "      <td>3.064608</td>\n",
       "      <td>200.800000</td>\n",
       "      <td>3.892276</td>\n",
       "      <td>0.0</td>\n",
       "      <td>0.0</td>\n",
       "      <td>45.590000</td>\n",
       "      <td>52.310000</td>\n",
       "    </tr>\n",
       "    <tr>\n",
       "      <th>1093</th>\n",
       "      <td>912.600000</td>\n",
       "      <td>58.406000</td>\n",
       "      <td>172.700000</td>\n",
       "      <td>3.825167</td>\n",
       "      <td>189.100000</td>\n",
       "      <td>4.764682</td>\n",
       "      <td>0.0</td>\n",
       "      <td>0.0</td>\n",
       "      <td>64.840000</td>\n",
       "      <td>58.280000</td>\n",
       "    </tr>\n",
       "    <tr>\n",
       "      <th>1094</th>\n",
       "      <td>921.530000</td>\n",
       "      <td>77.702000</td>\n",
       "      <td>97.100000</td>\n",
       "      <td>3.265932</td>\n",
       "      <td>125.900000</td>\n",
       "      <td>4.451511</td>\n",
       "      <td>0.0</td>\n",
       "      <td>0.0</td>\n",
       "      <td>14.560000</td>\n",
       "      <td>15.100000</td>\n",
       "    </tr>\n",
       "  </tbody>\n",
       "</table>\n",
       "<p>1064 rows × 10 columns</p>\n",
       "</div>"
      ],
      "text/plain": [
       "      air_pressure_9am  air_temp_9am  avg_wind_direction_9am  \\\n",
       "0           918.060000     74.822000              271.100000   \n",
       "1           917.347688     71.403843              101.935179   \n",
       "2           923.040000     60.638000               51.000000   \n",
       "3           920.502751     70.138895              198.832133   \n",
       "4           921.160000     44.294000              277.800000   \n",
       "...                ...           ...                     ...   \n",
       "1090        918.900000     63.104000              192.900000   \n",
       "1091        918.710000     49.568000              241.600000   \n",
       "1092        916.600000     71.096000              189.300000   \n",
       "1093        912.600000     58.406000              172.700000   \n",
       "1094        921.530000     77.702000               97.100000   \n",
       "\n",
       "      avg_wind_speed_9am  max_wind_direction_9am  max_wind_speed_9am  \\\n",
       "0               2.080354              295.400000            2.863283   \n",
       "1               2.443009              140.471548            3.533324   \n",
       "2              17.067852               63.700000           22.100967   \n",
       "3               4.337363              211.203341            5.190045   \n",
       "4               1.856660              136.500000            2.863283   \n",
       "...                  ...                     ...                 ...   \n",
       "1090            3.869906              207.300000            5.212070   \n",
       "1091            1.811921              227.400000            2.371156   \n",
       "1092            3.064608              200.800000            3.892276   \n",
       "1093            3.825167              189.100000            4.764682   \n",
       "1094            3.265932              125.900000            4.451511   \n",
       "\n",
       "      rain_accumulation_9am  rain_duration_9am  relative_humidity_9am  \\\n",
       "0                       0.0                0.0              42.420000   \n",
       "1                       0.0                0.0              24.328697   \n",
       "2                       0.0               20.0               8.900000   \n",
       "3                       0.0                0.0              12.189102   \n",
       "4                       8.9            14730.0              92.410000   \n",
       "...                     ...                ...                    ...   \n",
       "1090                    0.0                0.0              26.020000   \n",
       "1091                    0.0                0.0              90.350000   \n",
       "1092                    0.0                0.0              45.590000   \n",
       "1093                    0.0                0.0              64.840000   \n",
       "1094                    0.0                0.0              14.560000   \n",
       "\n",
       "      relative_humidity_3pm  \n",
       "0                 36.160000  \n",
       "1                 19.426597  \n",
       "2                 14.460000  \n",
       "3                 12.742547  \n",
       "4                 76.740000  \n",
       "...                     ...  \n",
       "1090              38.180000  \n",
       "1091              73.340000  \n",
       "1092              52.310000  \n",
       "1093              58.280000  \n",
       "1094              15.100000  \n",
       "\n",
       "[1064 rows x 10 columns]"
      ]
     },
     "execution_count": 643,
     "metadata": {},
     "output_type": "execute_result"
    }
   ],
   "source": [
    "df"
   ]
  },
  {
   "cell_type": "code",
   "execution_count": 644,
   "id": "c8e82832",
   "metadata": {},
   "outputs": [
    {
     "name": "stdout",
     "output_type": "stream",
     "text": [
      "<class 'pandas.core.frame.DataFrame'>\n",
      "Int64Index: 1064 entries, 0 to 1094\n",
      "Data columns (total 10 columns):\n",
      " #   Column                  Non-Null Count  Dtype  \n",
      "---  ------                  --------------  -----  \n",
      " 0   air_pressure_9am        1064 non-null   float64\n",
      " 1   air_temp_9am            1064 non-null   float64\n",
      " 2   avg_wind_direction_9am  1064 non-null   float64\n",
      " 3   avg_wind_speed_9am      1064 non-null   float64\n",
      " 4   max_wind_direction_9am  1064 non-null   float64\n",
      " 5   max_wind_speed_9am      1064 non-null   float64\n",
      " 6   rain_accumulation_9am   1064 non-null   float64\n",
      " 7   rain_duration_9am       1064 non-null   float64\n",
      " 8   relative_humidity_9am   1064 non-null   float64\n",
      " 9   relative_humidity_3pm   1064 non-null   float64\n",
      "dtypes: float64(10)\n",
      "memory usage: 91.4 KB\n"
     ]
    }
   ],
   "source": [
    "df.info()"
   ]
  },
  {
   "cell_type": "code",
   "execution_count": 645,
   "id": "0d22cb79",
   "metadata": {},
   "outputs": [
    {
     "data": {
      "text/html": [
       "<div>\n",
       "<style scoped>\n",
       "    .dataframe tbody tr th:only-of-type {\n",
       "        vertical-align: middle;\n",
       "    }\n",
       "\n",
       "    .dataframe tbody tr th {\n",
       "        vertical-align: top;\n",
       "    }\n",
       "\n",
       "    .dataframe thead th {\n",
       "        text-align: right;\n",
       "    }\n",
       "</style>\n",
       "<table border=\"1\" class=\"dataframe\">\n",
       "  <thead>\n",
       "    <tr style=\"text-align: right;\">\n",
       "      <th></th>\n",
       "      <th>air_pressure_9am</th>\n",
       "      <th>air_temp_9am</th>\n",
       "      <th>avg_wind_direction_9am</th>\n",
       "      <th>avg_wind_speed_9am</th>\n",
       "      <th>max_wind_direction_9am</th>\n",
       "      <th>max_wind_speed_9am</th>\n",
       "      <th>rain_accumulation_9am</th>\n",
       "      <th>rain_duration_9am</th>\n",
       "      <th>relative_humidity_9am</th>\n",
       "      <th>relative_humidity_3pm</th>\n",
       "    </tr>\n",
       "  </thead>\n",
       "  <tbody>\n",
       "    <tr>\n",
       "      <th>count</th>\n",
       "      <td>1064.000000</td>\n",
       "      <td>1064.000000</td>\n",
       "      <td>1064.000000</td>\n",
       "      <td>1064.000000</td>\n",
       "      <td>1064.000000</td>\n",
       "      <td>1064.000000</td>\n",
       "      <td>1064.000000</td>\n",
       "      <td>1064.000000</td>\n",
       "      <td>1064.000000</td>\n",
       "      <td>1064.000000</td>\n",
       "    </tr>\n",
       "    <tr>\n",
       "      <th>mean</th>\n",
       "      <td>918.903180</td>\n",
       "      <td>65.022609</td>\n",
       "      <td>142.306756</td>\n",
       "      <td>5.485793</td>\n",
       "      <td>148.480424</td>\n",
       "      <td>6.999714</td>\n",
       "      <td>0.182023</td>\n",
       "      <td>266.393697</td>\n",
       "      <td>34.077440</td>\n",
       "      <td>35.148381</td>\n",
       "    </tr>\n",
       "    <tr>\n",
       "      <th>std</th>\n",
       "      <td>3.179040</td>\n",
       "      <td>11.168033</td>\n",
       "      <td>69.149472</td>\n",
       "      <td>4.534427</td>\n",
       "      <td>67.154911</td>\n",
       "      <td>5.590790</td>\n",
       "      <td>1.534493</td>\n",
       "      <td>1503.092216</td>\n",
       "      <td>25.356668</td>\n",
       "      <td>22.365475</td>\n",
       "    </tr>\n",
       "    <tr>\n",
       "      <th>min</th>\n",
       "      <td>907.990000</td>\n",
       "      <td>36.752000</td>\n",
       "      <td>15.500000</td>\n",
       "      <td>0.693451</td>\n",
       "      <td>28.900000</td>\n",
       "      <td>1.185578</td>\n",
       "      <td>0.000000</td>\n",
       "      <td>0.000000</td>\n",
       "      <td>6.090000</td>\n",
       "      <td>5.300000</td>\n",
       "    </tr>\n",
       "    <tr>\n",
       "      <th>25%</th>\n",
       "      <td>916.595376</td>\n",
       "      <td>57.398000</td>\n",
       "      <td>65.979244</td>\n",
       "      <td>2.245529</td>\n",
       "      <td>76.335351</td>\n",
       "      <td>3.064608</td>\n",
       "      <td>0.000000</td>\n",
       "      <td>0.000000</td>\n",
       "      <td>15.093365</td>\n",
       "      <td>17.360468</td>\n",
       "    </tr>\n",
       "    <tr>\n",
       "      <th>50%</th>\n",
       "      <td>918.942281</td>\n",
       "      <td>65.778479</td>\n",
       "      <td>165.937461</td>\n",
       "      <td>3.869906</td>\n",
       "      <td>176.350000</td>\n",
       "      <td>4.943637</td>\n",
       "      <td>0.000000</td>\n",
       "      <td>0.000000</td>\n",
       "      <td>23.135000</td>\n",
       "      <td>24.371286</td>\n",
       "    </tr>\n",
       "    <tr>\n",
       "      <th>75%</th>\n",
       "      <td>921.169054</td>\n",
       "      <td>73.530872</td>\n",
       "      <td>191.100000</td>\n",
       "      <td>7.264463</td>\n",
       "      <td>201.125000</td>\n",
       "      <td>8.747888</td>\n",
       "      <td>0.000000</td>\n",
       "      <td>0.000000</td>\n",
       "      <td>44.660000</td>\n",
       "      <td>51.922500</td>\n",
       "    </tr>\n",
       "    <tr>\n",
       "      <th>max</th>\n",
       "      <td>929.320000</td>\n",
       "      <td>98.906000</td>\n",
       "      <td>343.400000</td>\n",
       "      <td>23.554978</td>\n",
       "      <td>312.200000</td>\n",
       "      <td>29.840780</td>\n",
       "      <td>24.020000</td>\n",
       "      <td>17704.000000</td>\n",
       "      <td>92.620000</td>\n",
       "      <td>92.250000</td>\n",
       "    </tr>\n",
       "  </tbody>\n",
       "</table>\n",
       "</div>"
      ],
      "text/plain": [
       "       air_pressure_9am  air_temp_9am  avg_wind_direction_9am  \\\n",
       "count       1064.000000   1064.000000             1064.000000   \n",
       "mean         918.903180     65.022609              142.306756   \n",
       "std            3.179040     11.168033               69.149472   \n",
       "min          907.990000     36.752000               15.500000   \n",
       "25%          916.595376     57.398000               65.979244   \n",
       "50%          918.942281     65.778479              165.937461   \n",
       "75%          921.169054     73.530872              191.100000   \n",
       "max          929.320000     98.906000              343.400000   \n",
       "\n",
       "       avg_wind_speed_9am  max_wind_direction_9am  max_wind_speed_9am  \\\n",
       "count         1064.000000             1064.000000         1064.000000   \n",
       "mean             5.485793              148.480424            6.999714   \n",
       "std              4.534427               67.154911            5.590790   \n",
       "min              0.693451               28.900000            1.185578   \n",
       "25%              2.245529               76.335351            3.064608   \n",
       "50%              3.869906              176.350000            4.943637   \n",
       "75%              7.264463              201.125000            8.747888   \n",
       "max             23.554978              312.200000           29.840780   \n",
       "\n",
       "       rain_accumulation_9am  rain_duration_9am  relative_humidity_9am  \\\n",
       "count            1064.000000        1064.000000            1064.000000   \n",
       "mean                0.182023         266.393697              34.077440   \n",
       "std                 1.534493        1503.092216              25.356668   \n",
       "min                 0.000000           0.000000               6.090000   \n",
       "25%                 0.000000           0.000000              15.093365   \n",
       "50%                 0.000000           0.000000              23.135000   \n",
       "75%                 0.000000           0.000000              44.660000   \n",
       "max                24.020000       17704.000000              92.620000   \n",
       "\n",
       "       relative_humidity_3pm  \n",
       "count            1064.000000  \n",
       "mean               35.148381  \n",
       "std                22.365475  \n",
       "min                 5.300000  \n",
       "25%                17.360468  \n",
       "50%                24.371286  \n",
       "75%                51.922500  \n",
       "max                92.250000  "
      ]
     },
     "execution_count": 645,
     "metadata": {},
     "output_type": "execute_result"
    }
   ],
   "source": [
    "df.describe()"
   ]
  },
  {
   "cell_type": "code",
   "execution_count": 646,
   "id": "86958435",
   "metadata": {},
   "outputs": [],
   "source": [
    "pie=df['air_pressure_9am'].value_counts().head(10)"
   ]
  },
  {
   "cell_type": "code",
   "execution_count": 647,
   "id": "84b9753a",
   "metadata": {},
   "outputs": [
    {
     "data": {
      "text/plain": [
       "Text(0.5, 1.0, 'Top 10 air_pressure_9am in percentage')"
      ]
     },
     "execution_count": 647,
     "metadata": {},
     "output_type": "execute_result"
    },
    {
     "data": {
      "image/png": "[encoded data removed]",
      "text/plain": [
       "<Figure size 640x480 with 1 Axes>"
      ]
     },
     "metadata": {},
     "output_type": "display_data"
    }
   ],
   "source": [
    "import matplotlib.pyplot as plt\n",
    "plt.pie(pie,autopct='%1.1f%%')\n",
    "plt.title('Top 10 air_pressure_9am in percentage')\n"
   ]
  },
  {
   "cell_type": "code",
   "execution_count": 648,
   "id": "a2d774be",
   "metadata": {},
   "outputs": [
    {
     "data": {
      "text/plain": [
       "918.60    3\n",
       "915.20    2\n",
       "917.60    2\n",
       "917.01    2\n",
       "919.30    2\n",
       "925.30    2\n",
       "921.34    2\n",
       "923.60    2\n",
       "918.71    2\n",
       "916.10    2\n",
       "Name: air_pressure_9am, dtype: int64"
      ]
     },
     "execution_count": 648,
     "metadata": {},
     "output_type": "execute_result"
    }
   ],
   "source": [
    "pie"
   ]
  },
  {
   "cell_type": "code",
   "execution_count": 649,
   "id": "d33281aa",
   "metadata": {},
   "outputs": [],
   "source": [
    "pie2=df['air_pressure_9am'].value_counts().tail(10)"
   ]
  },
  {
   "cell_type": "code",
   "execution_count": 650,
   "id": "50e125e4",
   "metadata": {},
   "outputs": [
    {
     "data": {
      "text/plain": [
       "Text(0.5, 1.0, 'Last 10 air_pressure_ in percentage')"
      ]
     },
     "execution_count": 650,
     "metadata": {},
     "output_type": "execute_result"
    },
    {
     "data": {
      "image/png": "[encoded data removed]",
      "text/plain": [
       "<Figure size 640x480 with 1 Axes>"
      ]
     },
     "metadata": {},
     "output_type": "display_data"
    }
   ],
   "source": [
    "plt.pie(pie2,autopct='%1.1f%%')\n",
    "plt.title('Last 10 air_pressure_ in percentage')"
   ]
  },
  {
   "cell_type": "code",
   "execution_count": 651,
   "id": "1801bc31",
   "metadata": {},
   "outputs": [
    {
     "data": {
      "text/html": [
       "<div>\n",
       "<style scoped>\n",
       "    .dataframe tbody tr th:only-of-type {\n",
       "        vertical-align: middle;\n",
       "    }\n",
       "\n",
       "    .dataframe tbody tr th {\n",
       "        vertical-align: top;\n",
       "    }\n",
       "\n",
       "    .dataframe thead th {\n",
       "        text-align: right;\n",
       "    }\n",
       "</style>\n",
       "<table border=\"1\" class=\"dataframe\">\n",
       "  <thead>\n",
       "    <tr style=\"text-align: right;\">\n",
       "      <th></th>\n",
       "      <th>air_pressure_9am</th>\n",
       "      <th>air_temp_9am</th>\n",
       "      <th>avg_wind_direction_9am</th>\n",
       "      <th>avg_wind_speed_9am</th>\n",
       "      <th>max_wind_direction_9am</th>\n",
       "      <th>max_wind_speed_9am</th>\n",
       "      <th>rain_accumulation_9am</th>\n",
       "      <th>rain_duration_9am</th>\n",
       "      <th>relative_humidity_9am</th>\n",
       "      <th>relative_humidity_3pm</th>\n",
       "    </tr>\n",
       "  </thead>\n",
       "  <tbody>\n",
       "    <tr>\n",
       "      <th>0</th>\n",
       "      <td>918.060000</td>\n",
       "      <td>74.822000</td>\n",
       "      <td>271.100000</td>\n",
       "      <td>2.080354</td>\n",
       "      <td>295.400000</td>\n",
       "      <td>2.863283</td>\n",
       "      <td>0.0</td>\n",
       "      <td>0.0</td>\n",
       "      <td>42.420000</td>\n",
       "      <td>36.160000</td>\n",
       "    </tr>\n",
       "    <tr>\n",
       "      <th>1</th>\n",
       "      <td>917.347688</td>\n",
       "      <td>71.403843</td>\n",
       "      <td>101.935179</td>\n",
       "      <td>2.443009</td>\n",
       "      <td>140.471548</td>\n",
       "      <td>3.533324</td>\n",
       "      <td>0.0</td>\n",
       "      <td>0.0</td>\n",
       "      <td>24.328697</td>\n",
       "      <td>19.426597</td>\n",
       "    </tr>\n",
       "    <tr>\n",
       "      <th>2</th>\n",
       "      <td>923.040000</td>\n",
       "      <td>60.638000</td>\n",
       "      <td>51.000000</td>\n",
       "      <td>17.067852</td>\n",
       "      <td>63.700000</td>\n",
       "      <td>22.100967</td>\n",
       "      <td>0.0</td>\n",
       "      <td>20.0</td>\n",
       "      <td>8.900000</td>\n",
       "      <td>14.460000</td>\n",
       "    </tr>\n",
       "    <tr>\n",
       "      <th>3</th>\n",
       "      <td>920.502751</td>\n",
       "      <td>70.138895</td>\n",
       "      <td>198.832133</td>\n",
       "      <td>4.337363</td>\n",
       "      <td>211.203341</td>\n",
       "      <td>5.190045</td>\n",
       "      <td>0.0</td>\n",
       "      <td>0.0</td>\n",
       "      <td>12.189102</td>\n",
       "      <td>12.742547</td>\n",
       "    </tr>\n",
       "    <tr>\n",
       "      <th>4</th>\n",
       "      <td>921.160000</td>\n",
       "      <td>44.294000</td>\n",
       "      <td>277.800000</td>\n",
       "      <td>1.856660</td>\n",
       "      <td>136.500000</td>\n",
       "      <td>2.863283</td>\n",
       "      <td>8.9</td>\n",
       "      <td>14730.0</td>\n",
       "      <td>92.410000</td>\n",
       "      <td>76.740000</td>\n",
       "    </tr>\n",
       "  </tbody>\n",
       "</table>\n",
       "</div>"
      ],
      "text/plain": [
       "   air_pressure_9am  air_temp_9am  avg_wind_direction_9am  avg_wind_speed_9am  \\\n",
       "0        918.060000     74.822000              271.100000            2.080354   \n",
       "1        917.347688     71.403843              101.935179            2.443009   \n",
       "2        923.040000     60.638000               51.000000           17.067852   \n",
       "3        920.502751     70.138895              198.832133            4.337363   \n",
       "4        921.160000     44.294000              277.800000            1.856660   \n",
       "\n",
       "   max_wind_direction_9am  max_wind_speed_9am  rain_accumulation_9am  \\\n",
       "0              295.400000            2.863283                    0.0   \n",
       "1              140.471548            3.533324                    0.0   \n",
       "2               63.700000           22.100967                    0.0   \n",
       "3              211.203341            5.190045                    0.0   \n",
       "4              136.500000            2.863283                    8.9   \n",
       "\n",
       "   rain_duration_9am  relative_humidity_9am  relative_humidity_3pm  \n",
       "0                0.0              42.420000              36.160000  \n",
       "1                0.0              24.328697              19.426597  \n",
       "2               20.0               8.900000              14.460000  \n",
       "3                0.0              12.189102              12.742547  \n",
       "4            14730.0              92.410000              76.740000  "
      ]
     },
     "execution_count": 651,
     "metadata": {},
     "output_type": "execute_result"
    }
   ],
   "source": [
    "df.head()"
   ]
  },
  {
   "cell_type": "code",
   "execution_count": 652,
   "id": "627b568c",
   "metadata": {},
   "outputs": [
    {
     "data": {
      "text/plain": [
       "<Axes: >"
      ]
     },
     "execution_count": 652,
     "metadata": {},
     "output_type": "execute_result"
    },
    {
     "data": {
      "image/png": "[encoded data removed]",
      "text/plain": [
       "<Figure size 1500x800 with 2 Axes>"
      ]
     },
     "metadata": {},
     "output_type": "display_data"
    }
   ],
   "source": [
    "import seaborn as sns\n",
    "plt.figure(figsize=(15,8))\n",
    "sns.heatmap(df.corr(),annot=True,cmap='rainbow')"
   ]
  },
  {
   "cell_type": "code",
   "execution_count": null,
   "id": "f97ba34b",
   "metadata": {},
   "outputs": [],
   "source": [
    "df.info()"
   ]
  },
  {
   "cell_type": "code",
   "execution_count": 653,
   "id": "e1bb1b06",
   "metadata": {},
   "outputs": [],
   "source": [
    "x=df.drop(columns=['relative_humidity_3pm'],axis=1)"
   ]
  },
  {
   "cell_type": "code",
   "execution_count": 654,
   "id": "a6c1eec3",
   "metadata": {},
   "outputs": [],
   "source": [
    "y=df['relative_humidity_3pm']"
   ]
  },
  {
   "cell_type": "code",
   "execution_count": 655,
   "id": "7c2c3126",
   "metadata": {},
   "outputs": [],
   "source": [
    "from sklearn.model_selection import train_test_split"
   ]
  },
  {
   "cell_type": "code",
   "execution_count": 656,
   "id": "e6ae13a0",
   "metadata": {},
   "outputs": [],
   "source": [
    "x_train,x_test,y_train,y_test=train_test_split(x,y,test_size=0.2)"
   ]
  },
  {
   "cell_type": "code",
   "execution_count": 657,
   "id": "d02b48f4",
   "metadata": {},
   "outputs": [
    {
     "data": {
      "text/plain": [
       "(1064, 10)"
      ]
     },
     "execution_count": 657,
     "metadata": {},
     "output_type": "execute_result"
    }
   ],
   "source": [
    "df.shape"
   ]
  },
  {
   "cell_type": "code",
   "execution_count": 658,
   "id": "fd2ed981",
   "metadata": {},
   "outputs": [
    {
     "data": {
      "text/plain": [
       "((851, 9), (213, 9), (851,), (213,))"
      ]
     },
     "execution_count": 658,
     "metadata": {},
     "output_type": "execute_result"
    }
   ],
   "source": [
    "x_train.shape,x_test.shape,y_train.shape,y_test.shape"
   ]
  },
  {
   "cell_type": "code",
   "execution_count": 659,
   "id": "4cf612b8",
   "metadata": {},
   "outputs": [],
   "source": [
    "from sklearn.tree import DecisionTreeRegressor"
   ]
  },
  {
   "cell_type": "code",
   "execution_count": 660,
   "id": "257181b3",
   "metadata": {},
   "outputs": [],
   "source": [
    "model= DecisionTreeRegressor()"
   ]
  },
  {
   "cell_type": "code",
   "execution_count": 661,
   "id": "dcabbbea",
   "metadata": {},
   "outputs": [
    {
     "data": {
      "text/html": [
       "<style>#sk-container-id-121 {color: black;background-color: white;}#sk-container-id-121 pre{padding: 0;}#sk-container-id-121 div.sk-toggleable {background-color: white;}#sk-container-id-121 label.sk-toggleable__label {cursor: pointer;display: block;width: 100%;margin-bottom: 0;padding: 0.3em;box-sizing: border-box;text-align: center;}#sk-container-id-121 label.sk-toggleable__label-arrow:before {content: \"▸\";float: left;margin-right: 0.25em;color: #696969;}#sk-container-id-121 label.sk-toggleable__label-arrow:hover:before {color: black;}#sk-container-id-121 div.sk-estimator:hover label.sk-toggleable__label-arrow:before {color: black;}#sk-container-id-121 div.sk-toggleable__content {max-height: 0;max-width: 0;overflow: hidden;text-align: left;background-color: #f0f8ff;}#sk-container-id-121 div.sk-toggleable__content pre {margin: 0.2em;color: black;border-radius: 0.25em;background-color: #f0f8ff;}#sk-container-id-121 input.sk-toggleable__control:checked~div.sk-toggleable__content {max-height: 200px;max-width: 100%;overflow: auto;}#sk-container-id-121 input.sk-toggleable__control:checked~label.sk-toggleable__label-arrow:before {content: \"▾\";}#sk-container-id-121 div.sk-estimator input.sk-toggleable__control:checked~label.sk-toggleable__label {background-color: #d4ebff;}#sk-container-id-121 div.sk-label input.sk-toggleable__control:checked~label.sk-toggleable__label {background-color: #d4ebff;}#sk-container-id-121 input.sk-hidden--visually {border: 0;clip: rect(1px 1px 1px 1px);clip: rect(1px, 1px, 1px, 1px);height: 1px;margin: -1px;overflow: hidden;padding: 0;position: absolute;width: 1px;}#sk-container-id-121 div.sk-estimator {font-family: monospace;background-color: #f0f8ff;border: 1px dotted black;border-radius: 0.25em;box-sizing: border-box;margin-bottom: 0.5em;}#sk-container-id-121 div.sk-estimator:hover {background-color: #d4ebff;}#sk-container-id-121 div.sk-parallel-item::after {content: \"\";width: 100%;border-bottom: 1px solid gray;flex-grow: 1;}#sk-container-id-121 div.sk-label:hover label.sk-toggleable__label {background-color: #d4ebff;}#sk-container-id-121 div.sk-serial::before {content: \"\";position: absolute;border-left: 1px solid gray;box-sizing: border-box;top: 0;bottom: 0;left: 50%;z-index: 0;}#sk-container-id-121 div.sk-serial {display: flex;flex-direction: column;align-items: center;background-color: white;padding-right: 0.2em;padding-left: 0.2em;position: relative;}#sk-container-id-121 div.sk-item {position: relative;z-index: 1;}#sk-container-id-121 div.sk-parallel {display: flex;align-items: stretch;justify-content: center;background-color: white;position: relative;}#sk-container-id-121 div.sk-item::before, #sk-container-id-121 div.sk-parallel-item::before {content: \"\";position: absolute;border-left: 1px solid gray;box-sizing: border-box;top: 0;bottom: 0;left: 50%;z-index: -1;}#sk-container-id-121 div.sk-parallel-item {display: flex;flex-direction: column;z-index: 1;position: relative;background-color: white;}#sk-container-id-121 div.sk-parallel-item:first-child::after {align-self: flex-end;width: 50%;}#sk-container-id-121 div.sk-parallel-item:last-child::after {align-self: flex-start;width: 50%;}#sk-container-id-121 div.sk-parallel-item:only-child::after {width: 0;}#sk-container-id-121 div.sk-dashed-wrapped {border: 1px dashed gray;margin: 0 0.4em 0.5em 0.4em;box-sizing: border-box;padding-bottom: 0.4em;background-color: white;}#sk-container-id-121 div.sk-label label {font-family: monospace;font-weight: bold;display: inline-block;line-height: 1.2em;}#sk-container-id-121 div.sk-label-container {text-align: center;}#sk-container-id-121 div.sk-container {/* jupyter's `normalize.less` sets `[hidden] { display: none; }` but bootstrap.min.css set `[hidden] { display: none !important; }` so we also need the `!important` here to be able to override the default hidden behavior on the sphinx rendered scikit-learn.org. See: https://github.com/scikit-learn/scikit-learn/issues/21755 */display: inline-block !important;position: relative;}#sk-container-id-121 div.sk-text-repr-fallback {display: none;}</style><div id=\"sk-container-id-121\" class=\"sk-top-container\"><div class=\"sk-text-repr-fallback\"><pre>DecisionTreeRegressor()</pre><b>In a Jupyter environment, please rerun this cell to show the HTML representation or trust the notebook. <br />On GitHub, the HTML representation is unable to render, please try loading this page with nbviewer.org.</b></div><div class=\"sk-container\" hidden><div class=\"sk-item\"><div class=\"sk-estimator sk-toggleable\"><input class=\"sk-toggleable__control sk-hidden--visually\" id=\"sk-estimator-id-145\" type=\"checkbox\" checked><label for=\"sk-estimator-id-145\" class=\"sk-toggleable__label sk-toggleable__label-arrow\">DecisionTreeRegressor</label><div class=\"sk-toggleable__content\"><pre>DecisionTreeRegressor()</pre></div></div></div></div></div>"
      ],
      "text/plain": [
       "DecisionTreeRegressor()"
      ]
     },
     "execution_count": 661,
     "metadata": {},
     "output_type": "execute_result"
    }
   ],
   "source": [
    "model.fit(x_train,y_train)"
   ]
  },
  {
   "cell_type": "code",
   "execution_count": 662,
   "id": "4952716c",
   "metadata": {},
   "outputs": [
    {
     "data": {
      "text/plain": [
       "array([21.73      , 39.52      ,  7.30218051, 71.65      , 20.3686575 ,\n",
       "       44.8       , 71.9       , 32.97      , 25.14      , 44.82      ,\n",
       "       19.60693827, 13.77      , 77.87      , 21.86553243, 44.27      ,\n",
       "       19.52606277, 91.16      , 23.8       , 17.33744917, 14.41069359,\n",
       "       17.75      , 53.02      , 13.48750448, 14.05      , 68.05      ,\n",
       "       54.77      , 15.25344497, 12.69854598, 18.65026305, 44.85      ,\n",
       "       21.28846893, 24.37743921, 10.376058  , 14.05374792, 69.67      ,\n",
       "       44.82      , 54.77      , 56.25      , 48.38      , 14.27588983,\n",
       "       88.16      , 22.60694278,  8.03      , 13.21      , 53.17      ,\n",
       "       13.55961808, 13.62      , 12.52      , 75.97      , 71.9       ,\n",
       "        8.62      , 14.15673274, 14.05      , 13.21      , 20.52      ,\n",
       "       13.48      , 66.57      , 21.77      , 22.18990678, 84.39      ,\n",
       "       16.87177039, 23.03597591, 88.67      , 30.57      , 10.376058  ,\n",
       "       19.59      , 15.52      , 43.96      , 46.6       , 13.77      ,\n",
       "       42.95      , 62.81      , 84.39      , 12.36298408, 64.52      ,\n",
       "       14.64990936, 74.1       , 20.9       , 18.27451897, 13.21      ,\n",
       "       14.15673274, 19.92657856, 51.1       , 53.23      , 28.82      ,\n",
       "       55.52      , 71.9       , 17.45      , 49.39      ,  7.52      ,\n",
       "       68.39      , 44.59      ,  7.94640849, 54.77      , 19.2       ,\n",
       "       17.71      , 53.84      , 13.52559044, 33.19      , 20.04530549,\n",
       "       45.19      , 21.03831789, 15.25344497, 22.72      , 19.23      ,\n",
       "       30.        , 20.21      , 79.38      , 19.52606277, 15.64703999,\n",
       "       17.3342963 , 18.9414337 , 16.68      , 19.04826571, 79.09      ,\n",
       "       11.43602921, 38.85      , 17.76      , 18.25795332, 27.45      ,\n",
       "       28.82      , 21.15      , 90.06      , 15.46261112, 76.94      ,\n",
       "       73.65      , 40.91      , 47.58      ,  8.76931379, 23.8       ,\n",
       "       44.27      , 19.04826571, 23.8       , 52.12      , 51.52      ,\n",
       "       36.55      , 12.15540564, 21.28846893, 37.8       , 14.22808216,\n",
       "       68.27      , 11.10544045, 91.22      , 15.87360525, 44.82      ,\n",
       "       22.77      , 21.28846893, 74.1       , 63.44      , 21.73      ,\n",
       "       11.24      ,  9.98407134, 42.95      , 48.81      , 69.19      ,\n",
       "       20.9       , 19.68      , 19.23      , 28.17      , 48.98      ,\n",
       "       42.22      , 16.81584367, 28.12      , 53.02      , 21.16905026,\n",
       "       13.17      , 19.30666431, 69.74      , 27.45      , 28.43      ,\n",
       "       78.51      , 43.96      , 13.35131297, 28.82      , 22.16642603,\n",
       "       23.11818221, 14.46      , 27.45      , 22.72      , 68.39      ,\n",
       "       56.93      , 68.05      , 17.63      , 51.1       , 14.05      ,\n",
       "       22.4       , 42.22      , 22.78455864, 17.28      , 76.94      ,\n",
       "       24.37743921, 20.71      , 17.76      , 91.22      , 19.2       ,\n",
       "       39.21      , 12.01883617, 53.02      ,  7.94640849, 85.96      ,\n",
       "       22.60694278, 26.94      , 48.38      , 27.88      , 59.69      ,\n",
       "       12.52      , 17.02234251, 25.11      , 16.66230871, 80.61      ,\n",
       "       13.09702532, 52.97      , 76.7       ])"
      ]
     },
     "execution_count": 662,
     "metadata": {},
     "output_type": "execute_result"
    }
   ],
   "source": [
    " model.predict(x_test)"
   ]
  },
  {
   "cell_type": "code",
   "execution_count": 663,
   "id": "d7ed71ef",
   "metadata": {},
   "outputs": [
    {
     "data": {
      "text/plain": [
       "0.7416526810297336"
      ]
     },
     "execution_count": 663,
     "metadata": {},
     "output_type": "execute_result"
    }
   ],
   "source": [
    "model.score(x_test,y_test)"
   ]
  },
  {
   "cell_type": "code",
   "execution_count": 664,
   "id": "84000869",
   "metadata": {},
   "outputs": [
    {
     "data": {
      "text/html": [
       "<div>\n",
       "<style scoped>\n",
       "    .dataframe tbody tr th:only-of-type {\n",
       "        vertical-align: middle;\n",
       "    }\n",
       "\n",
       "    .dataframe tbody tr th {\n",
       "        vertical-align: top;\n",
       "    }\n",
       "\n",
       "    .dataframe thead th {\n",
       "        text-align: right;\n",
       "    }\n",
       "</style>\n",
       "<table border=\"1\" class=\"dataframe\">\n",
       "  <thead>\n",
       "    <tr style=\"text-align: right;\">\n",
       "      <th></th>\n",
       "      <th>air_pressure_9am</th>\n",
       "      <th>air_temp_9am</th>\n",
       "      <th>avg_wind_direction_9am</th>\n",
       "      <th>avg_wind_speed_9am</th>\n",
       "      <th>max_wind_direction_9am</th>\n",
       "      <th>max_wind_speed_9am</th>\n",
       "      <th>rain_accumulation_9am</th>\n",
       "      <th>rain_duration_9am</th>\n",
       "      <th>relative_humidity_9am</th>\n",
       "      <th>relative_humidity_3pm</th>\n",
       "    </tr>\n",
       "  </thead>\n",
       "  <tbody>\n",
       "    <tr>\n",
       "      <th>0</th>\n",
       "      <td>918.060000</td>\n",
       "      <td>74.822000</td>\n",
       "      <td>271.100000</td>\n",
       "      <td>2.080354</td>\n",
       "      <td>295.400000</td>\n",
       "      <td>2.863283</td>\n",
       "      <td>0.0</td>\n",
       "      <td>0.0</td>\n",
       "      <td>42.420000</td>\n",
       "      <td>36.160000</td>\n",
       "    </tr>\n",
       "    <tr>\n",
       "      <th>1</th>\n",
       "      <td>917.347688</td>\n",
       "      <td>71.403843</td>\n",
       "      <td>101.935179</td>\n",
       "      <td>2.443009</td>\n",
       "      <td>140.471548</td>\n",
       "      <td>3.533324</td>\n",
       "      <td>0.0</td>\n",
       "      <td>0.0</td>\n",
       "      <td>24.328697</td>\n",
       "      <td>19.426597</td>\n",
       "    </tr>\n",
       "    <tr>\n",
       "      <th>2</th>\n",
       "      <td>923.040000</td>\n",
       "      <td>60.638000</td>\n",
       "      <td>51.000000</td>\n",
       "      <td>17.067852</td>\n",
       "      <td>63.700000</td>\n",
       "      <td>22.100967</td>\n",
       "      <td>0.0</td>\n",
       "      <td>20.0</td>\n",
       "      <td>8.900000</td>\n",
       "      <td>14.460000</td>\n",
       "    </tr>\n",
       "    <tr>\n",
       "      <th>3</th>\n",
       "      <td>920.502751</td>\n",
       "      <td>70.138895</td>\n",
       "      <td>198.832133</td>\n",
       "      <td>4.337363</td>\n",
       "      <td>211.203341</td>\n",
       "      <td>5.190045</td>\n",
       "      <td>0.0</td>\n",
       "      <td>0.0</td>\n",
       "      <td>12.189102</td>\n",
       "      <td>12.742547</td>\n",
       "    </tr>\n",
       "    <tr>\n",
       "      <th>4</th>\n",
       "      <td>921.160000</td>\n",
       "      <td>44.294000</td>\n",
       "      <td>277.800000</td>\n",
       "      <td>1.856660</td>\n",
       "      <td>136.500000</td>\n",
       "      <td>2.863283</td>\n",
       "      <td>8.9</td>\n",
       "      <td>14730.0</td>\n",
       "      <td>92.410000</td>\n",
       "      <td>76.740000</td>\n",
       "    </tr>\n",
       "  </tbody>\n",
       "</table>\n",
       "</div>"
      ],
      "text/plain": [
       "   air_pressure_9am  air_temp_9am  avg_wind_direction_9am  avg_wind_speed_9am  \\\n",
       "0        918.060000     74.822000              271.100000            2.080354   \n",
       "1        917.347688     71.403843              101.935179            2.443009   \n",
       "2        923.040000     60.638000               51.000000           17.067852   \n",
       "3        920.502751     70.138895              198.832133            4.337363   \n",
       "4        921.160000     44.294000              277.800000            1.856660   \n",
       "\n",
       "   max_wind_direction_9am  max_wind_speed_9am  rain_accumulation_9am  \\\n",
       "0              295.400000            2.863283                    0.0   \n",
       "1              140.471548            3.533324                    0.0   \n",
       "2               63.700000           22.100967                    0.0   \n",
       "3              211.203341            5.190045                    0.0   \n",
       "4              136.500000            2.863283                    8.9   \n",
       "\n",
       "   rain_duration_9am  relative_humidity_9am  relative_humidity_3pm  \n",
       "0                0.0              42.420000              36.160000  \n",
       "1                0.0              24.328697              19.426597  \n",
       "2               20.0               8.900000              14.460000  \n",
       "3                0.0              12.189102              12.742547  \n",
       "4            14730.0              92.410000              76.740000  "
      ]
     },
     "execution_count": 664,
     "metadata": {},
     "output_type": "execute_result"
    }
   ],
   "source": [
    "df.head()"
   ]
  },
  {
   "cell_type": "code",
   "execution_count": 665,
   "id": "e524671a",
   "metadata": {},
   "outputs": [],
   "source": [
    "x=df.drop(columns=['relative_humidity_3pm','max_wind_speed_9am','rain_accumulation_9am','avg_wind_speed_9am'],axis=1)\n",
    "y=df['relative_humidity_3pm']\n",
    "x_train,x_test,y_train,y_test=train_test_split(x,y,test_size=0.2)"
   ]
  },
  {
   "cell_type": "code",
   "execution_count": 699,
   "id": "46edc094",
   "metadata": {},
   "outputs": [],
   "source": [
    "mode_r1= DecisionTreeRegressor(max_leaf_nodes=10)"
   ]
  },
  {
   "cell_type": "code",
   "execution_count": 700,
   "id": "d5aea782",
   "metadata": {},
   "outputs": [
    {
     "data": {
      "text/html": [
       "<style>#sk-container-id-133 {color: black;background-color: white;}#sk-container-id-133 pre{padding: 0;}#sk-container-id-133 div.sk-toggleable {background-color: white;}#sk-container-id-133 label.sk-toggleable__label {cursor: pointer;display: block;width: 100%;margin-bottom: 0;padding: 0.3em;box-sizing: border-box;text-align: center;}#sk-container-id-133 label.sk-toggleable__label-arrow:before {content: \"▸\";float: left;margin-right: 0.25em;color: #696969;}#sk-container-id-133 label.sk-toggleable__label-arrow:hover:before {color: black;}#sk-container-id-133 div.sk-estimator:hover label.sk-toggleable__label-arrow:before {color: black;}#sk-container-id-133 div.sk-toggleable__content {max-height: 0;max-width: 0;overflow: hidden;text-align: left;background-color: #f0f8ff;}#sk-container-id-133 div.sk-toggleable__content pre {margin: 0.2em;color: black;border-radius: 0.25em;background-color: #f0f8ff;}#sk-container-id-133 input.sk-toggleable__control:checked~div.sk-toggleable__content {max-height: 200px;max-width: 100%;overflow: auto;}#sk-container-id-133 input.sk-toggleable__control:checked~label.sk-toggleable__label-arrow:before {content: \"▾\";}#sk-container-id-133 div.sk-estimator input.sk-toggleable__control:checked~label.sk-toggleable__label {background-color: #d4ebff;}#sk-container-id-133 div.sk-label input.sk-toggleable__control:checked~label.sk-toggleable__label {background-color: #d4ebff;}#sk-container-id-133 input.sk-hidden--visually {border: 0;clip: rect(1px 1px 1px 1px);clip: rect(1px, 1px, 1px, 1px);height: 1px;margin: -1px;overflow: hidden;padding: 0;position: absolute;width: 1px;}#sk-container-id-133 div.sk-estimator {font-family: monospace;background-color: #f0f8ff;border: 1px dotted black;border-radius: 0.25em;box-sizing: border-box;margin-bottom: 0.5em;}#sk-container-id-133 div.sk-estimator:hover {background-color: #d4ebff;}#sk-container-id-133 div.sk-parallel-item::after {content: \"\";width: 100%;border-bottom: 1px solid gray;flex-grow: 1;}#sk-container-id-133 div.sk-label:hover label.sk-toggleable__label {background-color: #d4ebff;}#sk-container-id-133 div.sk-serial::before {content: \"\";position: absolute;border-left: 1px solid gray;box-sizing: border-box;top: 0;bottom: 0;left: 50%;z-index: 0;}#sk-container-id-133 div.sk-serial {display: flex;flex-direction: column;align-items: center;background-color: white;padding-right: 0.2em;padding-left: 0.2em;position: relative;}#sk-container-id-133 div.sk-item {position: relative;z-index: 1;}#sk-container-id-133 div.sk-parallel {display: flex;align-items: stretch;justify-content: center;background-color: white;position: relative;}#sk-container-id-133 div.sk-item::before, #sk-container-id-133 div.sk-parallel-item::before {content: \"\";position: absolute;border-left: 1px solid gray;box-sizing: border-box;top: 0;bottom: 0;left: 50%;z-index: -1;}#sk-container-id-133 div.sk-parallel-item {display: flex;flex-direction: column;z-index: 1;position: relative;background-color: white;}#sk-container-id-133 div.sk-parallel-item:first-child::after {align-self: flex-end;width: 50%;}#sk-container-id-133 div.sk-parallel-item:last-child::after {align-self: flex-start;width: 50%;}#sk-container-id-133 div.sk-parallel-item:only-child::after {width: 0;}#sk-container-id-133 div.sk-dashed-wrapped {border: 1px dashed gray;margin: 0 0.4em 0.5em 0.4em;box-sizing: border-box;padding-bottom: 0.4em;background-color: white;}#sk-container-id-133 div.sk-label label {font-family: monospace;font-weight: bold;display: inline-block;line-height: 1.2em;}#sk-container-id-133 div.sk-label-container {text-align: center;}#sk-container-id-133 div.sk-container {/* jupyter's `normalize.less` sets `[hidden] { display: none; }` but bootstrap.min.css set `[hidden] { display: none !important; }` so we also need the `!important` here to be able to override the default hidden behavior on the sphinx rendered scikit-learn.org. See: https://github.com/scikit-learn/scikit-learn/issues/21755 */display: inline-block !important;position: relative;}#sk-container-id-133 div.sk-text-repr-fallback {display: none;}</style><div id=\"sk-container-id-133\" class=\"sk-top-container\"><div class=\"sk-text-repr-fallback\"><pre>DecisionTreeRegressor(max_leaf_nodes=10)</pre><b>In a Jupyter environment, please rerun this cell to show the HTML representation or trust the notebook. <br />On GitHub, the HTML representation is unable to render, please try loading this page with nbviewer.org.</b></div><div class=\"sk-container\" hidden><div class=\"sk-item\"><div class=\"sk-estimator sk-toggleable\"><input class=\"sk-toggleable__control sk-hidden--visually\" id=\"sk-estimator-id-161\" type=\"checkbox\" checked><label for=\"sk-estimator-id-161\" class=\"sk-toggleable__label sk-toggleable__label-arrow\">DecisionTreeRegressor</label><div class=\"sk-toggleable__content\"><pre>DecisionTreeRegressor(max_leaf_nodes=10)</pre></div></div></div></div></div>"
      ],
      "text/plain": [
       "DecisionTreeRegressor(max_leaf_nodes=10)"
      ]
     },
     "execution_count": 700,
     "metadata": {},
     "output_type": "execute_result"
    }
   ],
   "source": [
    "mode_r1.fit(x_train,y_train)"
   ]
  },
  {
   "cell_type": "code",
   "execution_count": 701,
   "id": "30865562",
   "metadata": {},
   "outputs": [
    {
     "data": {
      "text/plain": [
       "0.8142315832148777"
      ]
     },
     "execution_count": 701,
     "metadata": {},
     "output_type": "execute_result"
    }
   ],
   "source": [
    "mode_r1.score(x_test,y_test)"
   ]
  },
  {
   "cell_type": "code",
   "execution_count": 702,
   "id": "b85b9576",
   "metadata": {},
   "outputs": [],
   "source": [
    "from sklearn.preprocessing import StandardScaler"
   ]
  },
  {
   "cell_type": "code",
   "execution_count": 703,
   "id": "c9d04e17",
   "metadata": {},
   "outputs": [],
   "source": [
    "scale=StandardScaler()"
   ]
  },
  {
   "cell_type": "code",
   "execution_count": 704,
   "id": "f58942ae",
   "metadata": {},
   "outputs": [
    {
     "data": {
      "text/html": [
       "<style>#sk-container-id-134 {color: black;background-color: white;}#sk-container-id-134 pre{padding: 0;}#sk-container-id-134 div.sk-toggleable {background-color: white;}#sk-container-id-134 label.sk-toggleable__label {cursor: pointer;display: block;width: 100%;margin-bottom: 0;padding: 0.3em;box-sizing: border-box;text-align: center;}#sk-container-id-134 label.sk-toggleable__label-arrow:before {content: \"▸\";float: left;margin-right: 0.25em;color: #696969;}#sk-container-id-134 label.sk-toggleable__label-arrow:hover:before {color: black;}#sk-container-id-134 div.sk-estimator:hover label.sk-toggleable__label-arrow:before {color: black;}#sk-container-id-134 div.sk-toggleable__content {max-height: 0;max-width: 0;overflow: hidden;text-align: left;background-color: #f0f8ff;}#sk-container-id-134 div.sk-toggleable__content pre {margin: 0.2em;color: black;border-radius: 0.25em;background-color: #f0f8ff;}#sk-container-id-134 input.sk-toggleable__control:checked~div.sk-toggleable__content {max-height: 200px;max-width: 100%;overflow: auto;}#sk-container-id-134 input.sk-toggleable__control:checked~label.sk-toggleable__label-arrow:before {content: \"▾\";}#sk-container-id-134 div.sk-estimator input.sk-toggleable__control:checked~label.sk-toggleable__label {background-color: #d4ebff;}#sk-container-id-134 div.sk-label input.sk-toggleable__control:checked~label.sk-toggleable__label {background-color: #d4ebff;}#sk-container-id-134 input.sk-hidden--visually {border: 0;clip: rect(1px 1px 1px 1px);clip: rect(1px, 1px, 1px, 1px);height: 1px;margin: -1px;overflow: hidden;padding: 0;position: absolute;width: 1px;}#sk-container-id-134 div.sk-estimator {font-family: monospace;background-color: #f0f8ff;border: 1px dotted black;border-radius: 0.25em;box-sizing: border-box;margin-bottom: 0.5em;}#sk-container-id-134 div.sk-estimator:hover {background-color: #d4ebff;}#sk-container-id-134 div.sk-parallel-item::after {content: \"\";width: 100%;border-bottom: 1px solid gray;flex-grow: 1;}#sk-container-id-134 div.sk-label:hover label.sk-toggleable__label {background-color: #d4ebff;}#sk-container-id-134 div.sk-serial::before {content: \"\";position: absolute;border-left: 1px solid gray;box-sizing: border-box;top: 0;bottom: 0;left: 50%;z-index: 0;}#sk-container-id-134 div.sk-serial {display: flex;flex-direction: column;align-items: center;background-color: white;padding-right: 0.2em;padding-left: 0.2em;position: relative;}#sk-container-id-134 div.sk-item {position: relative;z-index: 1;}#sk-container-id-134 div.sk-parallel {display: flex;align-items: stretch;justify-content: center;background-color: white;position: relative;}#sk-container-id-134 div.sk-item::before, #sk-container-id-134 div.sk-parallel-item::before {content: \"\";position: absolute;border-left: 1px solid gray;box-sizing: border-box;top: 0;bottom: 0;left: 50%;z-index: -1;}#sk-container-id-134 div.sk-parallel-item {display: flex;flex-direction: column;z-index: 1;position: relative;background-color: white;}#sk-container-id-134 div.sk-parallel-item:first-child::after {align-self: flex-end;width: 50%;}#sk-container-id-134 div.sk-parallel-item:last-child::after {align-self: flex-start;width: 50%;}#sk-container-id-134 div.sk-parallel-item:only-child::after {width: 0;}#sk-container-id-134 div.sk-dashed-wrapped {border: 1px dashed gray;margin: 0 0.4em 0.5em 0.4em;box-sizing: border-box;padding-bottom: 0.4em;background-color: white;}#sk-container-id-134 div.sk-label label {font-family: monospace;font-weight: bold;display: inline-block;line-height: 1.2em;}#sk-container-id-134 div.sk-label-container {text-align: center;}#sk-container-id-134 div.sk-container {/* jupyter's `normalize.less` sets `[hidden] { display: none; }` but bootstrap.min.css set `[hidden] { display: none !important; }` so we also need the `!important` here to be able to override the default hidden behavior on the sphinx rendered scikit-learn.org. See: https://github.com/scikit-learn/scikit-learn/issues/21755 */display: inline-block !important;position: relative;}#sk-container-id-134 div.sk-text-repr-fallback {display: none;}</style><div id=\"sk-container-id-134\" class=\"sk-top-container\"><div class=\"sk-text-repr-fallback\"><pre>StandardScaler()</pre><b>In a Jupyter environment, please rerun this cell to show the HTML representation or trust the notebook. <br />On GitHub, the HTML representation is unable to render, please try loading this page with nbviewer.org.</b></div><div class=\"sk-container\" hidden><div class=\"sk-item\"><div class=\"sk-estimator sk-toggleable\"><input class=\"sk-toggleable__control sk-hidden--visually\" id=\"sk-estimator-id-162\" type=\"checkbox\" checked><label for=\"sk-estimator-id-162\" class=\"sk-toggleable__label sk-toggleable__label-arrow\">StandardScaler</label><div class=\"sk-toggleable__content\"><pre>StandardScaler()</pre></div></div></div></div></div>"
      ],
      "text/plain": [
       "StandardScaler()"
      ]
     },
     "execution_count": 704,
     "metadata": {},
     "output_type": "execute_result"
    }
   ],
   "source": [
    "scale.fit(x_train,y_train)"
   ]
  },
  {
   "cell_type": "code",
   "execution_count": 705,
   "id": "c6433e7e",
   "metadata": {},
   "outputs": [],
   "source": [
    "x_test_scale=scale.fit_transform(x_test)\n",
    "x_train_scale=scale.fit_transform(x_train)\n"
   ]
  },
  {
   "cell_type": "code",
   "execution_count": 706,
   "id": "caca1f4d",
   "metadata": {},
   "outputs": [
    {
     "data": {
      "text/html": [
       "<style>#sk-container-id-135 {color: black;background-color: white;}#sk-container-id-135 pre{padding: 0;}#sk-container-id-135 div.sk-toggleable {background-color: white;}#sk-container-id-135 label.sk-toggleable__label {cursor: pointer;display: block;width: 100%;margin-bottom: 0;padding: 0.3em;box-sizing: border-box;text-align: center;}#sk-container-id-135 label.sk-toggleable__label-arrow:before {content: \"▸\";float: left;margin-right: 0.25em;color: #696969;}#sk-container-id-135 label.sk-toggleable__label-arrow:hover:before {color: black;}#sk-container-id-135 div.sk-estimator:hover label.sk-toggleable__label-arrow:before {color: black;}#sk-container-id-135 div.sk-toggleable__content {max-height: 0;max-width: 0;overflow: hidden;text-align: left;background-color: #f0f8ff;}#sk-container-id-135 div.sk-toggleable__content pre {margin: 0.2em;color: black;border-radius: 0.25em;background-color: #f0f8ff;}#sk-container-id-135 input.sk-toggleable__control:checked~div.sk-toggleable__content {max-height: 200px;max-width: 100%;overflow: auto;}#sk-container-id-135 input.sk-toggleable__control:checked~label.sk-toggleable__label-arrow:before {content: \"▾\";}#sk-container-id-135 div.sk-estimator input.sk-toggleable__control:checked~label.sk-toggleable__label {background-color: #d4ebff;}#sk-container-id-135 div.sk-label input.sk-toggleable__control:checked~label.sk-toggleable__label {background-color: #d4ebff;}#sk-container-id-135 input.sk-hidden--visually {border: 0;clip: rect(1px 1px 1px 1px);clip: rect(1px, 1px, 1px, 1px);height: 1px;margin: -1px;overflow: hidden;padding: 0;position: absolute;width: 1px;}#sk-container-id-135 div.sk-estimator {font-family: monospace;background-color: #f0f8ff;border: 1px dotted black;border-radius: 0.25em;box-sizing: border-box;margin-bottom: 0.5em;}#sk-container-id-135 div.sk-estimator:hover {background-color: #d4ebff;}#sk-container-id-135 div.sk-parallel-item::after {content: \"\";width: 100%;border-bottom: 1px solid gray;flex-grow: 1;}#sk-container-id-135 div.sk-label:hover label.sk-toggleable__label {background-color: #d4ebff;}#sk-container-id-135 div.sk-serial::before {content: \"\";position: absolute;border-left: 1px solid gray;box-sizing: border-box;top: 0;bottom: 0;left: 50%;z-index: 0;}#sk-container-id-135 div.sk-serial {display: flex;flex-direction: column;align-items: center;background-color: white;padding-right: 0.2em;padding-left: 0.2em;position: relative;}#sk-container-id-135 div.sk-item {position: relative;z-index: 1;}#sk-container-id-135 div.sk-parallel {display: flex;align-items: stretch;justify-content: center;background-color: white;position: relative;}#sk-container-id-135 div.sk-item::before, #sk-container-id-135 div.sk-parallel-item::before {content: \"\";position: absolute;border-left: 1px solid gray;box-sizing: border-box;top: 0;bottom: 0;left: 50%;z-index: -1;}#sk-container-id-135 div.sk-parallel-item {display: flex;flex-direction: column;z-index: 1;position: relative;background-color: white;}#sk-container-id-135 div.sk-parallel-item:first-child::after {align-self: flex-end;width: 50%;}#sk-container-id-135 div.sk-parallel-item:last-child::after {align-self: flex-start;width: 50%;}#sk-container-id-135 div.sk-parallel-item:only-child::after {width: 0;}#sk-container-id-135 div.sk-dashed-wrapped {border: 1px dashed gray;margin: 0 0.4em 0.5em 0.4em;box-sizing: border-box;padding-bottom: 0.4em;background-color: white;}#sk-container-id-135 div.sk-label label {font-family: monospace;font-weight: bold;display: inline-block;line-height: 1.2em;}#sk-container-id-135 div.sk-label-container {text-align: center;}#sk-container-id-135 div.sk-container {/* jupyter's `normalize.less` sets `[hidden] { display: none; }` but bootstrap.min.css set `[hidden] { display: none !important; }` so we also need the `!important` here to be able to override the default hidden behavior on the sphinx rendered scikit-learn.org. See: https://github.com/scikit-learn/scikit-learn/issues/21755 */display: inline-block !important;position: relative;}#sk-container-id-135 div.sk-text-repr-fallback {display: none;}</style><div id=\"sk-container-id-135\" class=\"sk-top-container\"><div class=\"sk-text-repr-fallback\"><pre>DecisionTreeRegressor(max_leaf_nodes=10)</pre><b>In a Jupyter environment, please rerun this cell to show the HTML representation or trust the notebook. <br />On GitHub, the HTML representation is unable to render, please try loading this page with nbviewer.org.</b></div><div class=\"sk-container\" hidden><div class=\"sk-item\"><div class=\"sk-estimator sk-toggleable\"><input class=\"sk-toggleable__control sk-hidden--visually\" id=\"sk-estimator-id-163\" type=\"checkbox\" checked><label for=\"sk-estimator-id-163\" class=\"sk-toggleable__label sk-toggleable__label-arrow\">DecisionTreeRegressor</label><div class=\"sk-toggleable__content\"><pre>DecisionTreeRegressor(max_leaf_nodes=10)</pre></div></div></div></div></div>"
      ],
      "text/plain": [
       "DecisionTreeRegressor(max_leaf_nodes=10)"
      ]
     },
     "execution_count": 706,
     "metadata": {},
     "output_type": "execute_result"
    }
   ],
   "source": [
    "mode_r1.fit(x_train_scale,y_train)\n"
   ]
  },
  {
   "cell_type": "code",
   "execution_count": 707,
   "id": "0d6d6285",
   "metadata": {},
   "outputs": [
    {
     "data": {
      "text/plain": [
       "0.7961597898639061"
      ]
     },
     "execution_count": 707,
     "metadata": {},
     "output_type": "execute_result"
    }
   ],
   "source": [
    "mode_r1.score(x_test_scale,y_test)"
   ]
  },
  {
   "cell_type": "code",
   "execution_count": 708,
   "id": "236c3c4c",
   "metadata": {},
   "outputs": [],
   "source": [
    "from sklearn.ensemble import RandomForestRegressor"
   ]
  },
  {
   "cell_type": "code",
   "execution_count": 709,
   "id": "547dd8c1",
   "metadata": {},
   "outputs": [],
   "source": [
    "model2=RandomForestRegressor()"
   ]
  },
  {
   "cell_type": "code",
   "execution_count": 710,
   "id": "1e1be1bd",
   "metadata": {},
   "outputs": [
    {
     "data": {
      "text/html": [
       "<style>#sk-container-id-136 {color: black;background-color: white;}#sk-container-id-136 pre{padding: 0;}#sk-container-id-136 div.sk-toggleable {background-color: white;}#sk-container-id-136 label.sk-toggleable__label {cursor: pointer;display: block;width: 100%;margin-bottom: 0;padding: 0.3em;box-sizing: border-box;text-align: center;}#sk-container-id-136 label.sk-toggleable__label-arrow:before {content: \"▸\";float: left;margin-right: 0.25em;color: #696969;}#sk-container-id-136 label.sk-toggleable__label-arrow:hover:before {color: black;}#sk-container-id-136 div.sk-estimator:hover label.sk-toggleable__label-arrow:before {color: black;}#sk-container-id-136 div.sk-toggleable__content {max-height: 0;max-width: 0;overflow: hidden;text-align: left;background-color: #f0f8ff;}#sk-container-id-136 div.sk-toggleable__content pre {margin: 0.2em;color: black;border-radius: 0.25em;background-color: #f0f8ff;}#sk-container-id-136 input.sk-toggleable__control:checked~div.sk-toggleable__content {max-height: 200px;max-width: 100%;overflow: auto;}#sk-container-id-136 input.sk-toggleable__control:checked~label.sk-toggleable__label-arrow:before {content: \"▾\";}#sk-container-id-136 div.sk-estimator input.sk-toggleable__control:checked~label.sk-toggleable__label {background-color: #d4ebff;}#sk-container-id-136 div.sk-label input.sk-toggleable__control:checked~label.sk-toggleable__label {background-color: #d4ebff;}#sk-container-id-136 input.sk-hidden--visually {border: 0;clip: rect(1px 1px 1px 1px);clip: rect(1px, 1px, 1px, 1px);height: 1px;margin: -1px;overflow: hidden;padding: 0;position: absolute;width: 1px;}#sk-container-id-136 div.sk-estimator {font-family: monospace;background-color: #f0f8ff;border: 1px dotted black;border-radius: 0.25em;box-sizing: border-box;margin-bottom: 0.5em;}#sk-container-id-136 div.sk-estimator:hover {background-color: #d4ebff;}#sk-container-id-136 div.sk-parallel-item::after {content: \"\";width: 100%;border-bottom: 1px solid gray;flex-grow: 1;}#sk-container-id-136 div.sk-label:hover label.sk-toggleable__label {background-color: #d4ebff;}#sk-container-id-136 div.sk-serial::before {content: \"\";position: absolute;border-left: 1px solid gray;box-sizing: border-box;top: 0;bottom: 0;left: 50%;z-index: 0;}#sk-container-id-136 div.sk-serial {display: flex;flex-direction: column;align-items: center;background-color: white;padding-right: 0.2em;padding-left: 0.2em;position: relative;}#sk-container-id-136 div.sk-item {position: relative;z-index: 1;}#sk-container-id-136 div.sk-parallel {display: flex;align-items: stretch;justify-content: center;background-color: white;position: relative;}#sk-container-id-136 div.sk-item::before, #sk-container-id-136 div.sk-parallel-item::before {content: \"\";position: absolute;border-left: 1px solid gray;box-sizing: border-box;top: 0;bottom: 0;left: 50%;z-index: -1;}#sk-container-id-136 div.sk-parallel-item {display: flex;flex-direction: column;z-index: 1;position: relative;background-color: white;}#sk-container-id-136 div.sk-parallel-item:first-child::after {align-self: flex-end;width: 50%;}#sk-container-id-136 div.sk-parallel-item:last-child::after {align-self: flex-start;width: 50%;}#sk-container-id-136 div.sk-parallel-item:only-child::after {width: 0;}#sk-container-id-136 div.sk-dashed-wrapped {border: 1px dashed gray;margin: 0 0.4em 0.5em 0.4em;box-sizing: border-box;padding-bottom: 0.4em;background-color: white;}#sk-container-id-136 div.sk-label label {font-family: monospace;font-weight: bold;display: inline-block;line-height: 1.2em;}#sk-container-id-136 div.sk-label-container {text-align: center;}#sk-container-id-136 div.sk-container {/* jupyter's `normalize.less` sets `[hidden] { display: none; }` but bootstrap.min.css set `[hidden] { display: none !important; }` so we also need the `!important` here to be able to override the default hidden behavior on the sphinx rendered scikit-learn.org. See: https://github.com/scikit-learn/scikit-learn/issues/21755 */display: inline-block !important;position: relative;}#sk-container-id-136 div.sk-text-repr-fallback {display: none;}</style><div id=\"sk-container-id-136\" class=\"sk-top-container\"><div class=\"sk-text-repr-fallback\"><pre>RandomForestRegressor()</pre><b>In a Jupyter environment, please rerun this cell to show the HTML representation or trust the notebook. <br />On GitHub, the HTML representation is unable to render, please try loading this page with nbviewer.org.</b></div><div class=\"sk-container\" hidden><div class=\"sk-item\"><div class=\"sk-estimator sk-toggleable\"><input class=\"sk-toggleable__control sk-hidden--visually\" id=\"sk-estimator-id-164\" type=\"checkbox\" checked><label for=\"sk-estimator-id-164\" class=\"sk-toggleable__label sk-toggleable__label-arrow\">RandomForestRegressor</label><div class=\"sk-toggleable__content\"><pre>RandomForestRegressor()</pre></div></div></div></div></div>"
      ],
      "text/plain": [
       "RandomForestRegressor()"
      ]
     },
     "execution_count": 710,
     "metadata": {},
     "output_type": "execute_result"
    }
   ],
   "source": [
    "model2.fit(x_train,y_train)"
   ]
  },
  {
   "cell_type": "code",
   "execution_count": 712,
   "id": "791be0d1",
   "metadata": {},
   "outputs": [
    {
     "data": {
      "text/plain": [
       "0.821154255074222"
      ]
     },
     "execution_count": 712,
     "metadata": {},
     "output_type": "execute_result"
    }
   ],
   "source": [
    "model2.score(x_test_scale,y_test)"
   ]
  },
  {
   "cell_type": "code",
   "execution_count": 711,
   "id": "cbe9fc20",
   "metadata": {},
   "outputs": [
    {
     "data": {
      "text/html": [
       "<style>#sk-container-id-137 {color: black;background-color: white;}#sk-container-id-137 pre{padding: 0;}#sk-container-id-137 div.sk-toggleable {background-color: white;}#sk-container-id-137 label.sk-toggleable__label {cursor: pointer;display: block;width: 100%;margin-bottom: 0;padding: 0.3em;box-sizing: border-box;text-align: center;}#sk-container-id-137 label.sk-toggleable__label-arrow:before {content: \"▸\";float: left;margin-right: 0.25em;color: #696969;}#sk-container-id-137 label.sk-toggleable__label-arrow:hover:before {color: black;}#sk-container-id-137 div.sk-estimator:hover label.sk-toggleable__label-arrow:before {color: black;}#sk-container-id-137 div.sk-toggleable__content {max-height: 0;max-width: 0;overflow: hidden;text-align: left;background-color: #f0f8ff;}#sk-container-id-137 div.sk-toggleable__content pre {margin: 0.2em;color: black;border-radius: 0.25em;background-color: #f0f8ff;}#sk-container-id-137 input.sk-toggleable__control:checked~div.sk-toggleable__content {max-height: 200px;max-width: 100%;overflow: auto;}#sk-container-id-137 input.sk-toggleable__control:checked~label.sk-toggleable__label-arrow:before {content: \"▾\";}#sk-container-id-137 div.sk-estimator input.sk-toggleable__control:checked~label.sk-toggleable__label {background-color: #d4ebff;}#sk-container-id-137 div.sk-label input.sk-toggleable__control:checked~label.sk-toggleable__label {background-color: #d4ebff;}#sk-container-id-137 input.sk-hidden--visually {border: 0;clip: rect(1px 1px 1px 1px);clip: rect(1px, 1px, 1px, 1px);height: 1px;margin: -1px;overflow: hidden;padding: 0;position: absolute;width: 1px;}#sk-container-id-137 div.sk-estimator {font-family: monospace;background-color: #f0f8ff;border: 1px dotted black;border-radius: 0.25em;box-sizing: border-box;margin-bottom: 0.5em;}#sk-container-id-137 div.sk-estimator:hover {background-color: #d4ebff;}#sk-container-id-137 div.sk-parallel-item::after {content: \"\";width: 100%;border-bottom: 1px solid gray;flex-grow: 1;}#sk-container-id-137 div.sk-label:hover label.sk-toggleable__label {background-color: #d4ebff;}#sk-container-id-137 div.sk-serial::before {content: \"\";position: absolute;border-left: 1px solid gray;box-sizing: border-box;top: 0;bottom: 0;left: 50%;z-index: 0;}#sk-container-id-137 div.sk-serial {display: flex;flex-direction: column;align-items: center;background-color: white;padding-right: 0.2em;padding-left: 0.2em;position: relative;}#sk-container-id-137 div.sk-item {position: relative;z-index: 1;}#sk-container-id-137 div.sk-parallel {display: flex;align-items: stretch;justify-content: center;background-color: white;position: relative;}#sk-container-id-137 div.sk-item::before, #sk-container-id-137 div.sk-parallel-item::before {content: \"\";position: absolute;border-left: 1px solid gray;box-sizing: border-box;top: 0;bottom: 0;left: 50%;z-index: -1;}#sk-container-id-137 div.sk-parallel-item {display: flex;flex-direction: column;z-index: 1;position: relative;background-color: white;}#sk-container-id-137 div.sk-parallel-item:first-child::after {align-self: flex-end;width: 50%;}#sk-container-id-137 div.sk-parallel-item:last-child::after {align-self: flex-start;width: 50%;}#sk-container-id-137 div.sk-parallel-item:only-child::after {width: 0;}#sk-container-id-137 div.sk-dashed-wrapped {border: 1px dashed gray;margin: 0 0.4em 0.5em 0.4em;box-sizing: border-box;padding-bottom: 0.4em;background-color: white;}#sk-container-id-137 div.sk-label label {font-family: monospace;font-weight: bold;display: inline-block;line-height: 1.2em;}#sk-container-id-137 div.sk-label-container {text-align: center;}#sk-container-id-137 div.sk-container {/* jupyter's `normalize.less` sets `[hidden] { display: none; }` but bootstrap.min.css set `[hidden] { display: none !important; }` so we also need the `!important` here to be able to override the default hidden behavior on the sphinx rendered scikit-learn.org. See: https://github.com/scikit-learn/scikit-learn/issues/21755 */display: inline-block !important;position: relative;}#sk-container-id-137 div.sk-text-repr-fallback {display: none;}</style><div id=\"sk-container-id-137\" class=\"sk-top-container\"><div class=\"sk-text-repr-fallback\"><pre>RandomForestRegressor()</pre><b>In a Jupyter environment, please rerun this cell to show the HTML representation or trust the notebook. <br />On GitHub, the HTML representation is unable to render, please try loading this page with nbviewer.org.</b></div><div class=\"sk-container\" hidden><div class=\"sk-item\"><div class=\"sk-estimator sk-toggleable\"><input class=\"sk-toggleable__control sk-hidden--visually\" id=\"sk-estimator-id-165\" type=\"checkbox\" checked><label for=\"sk-estimator-id-165\" class=\"sk-toggleable__label sk-toggleable__label-arrow\">RandomForestRegressor</label><div class=\"sk-toggleable__content\"><pre>RandomForestRegressor()</pre></div></div></div></div></div>"
      ],
      "text/plain": [
       "RandomForestRegressor()"
      ]
     },
     "execution_count": 711,
     "metadata": {},
     "output_type": "execute_result"
    }
   ],
   "source": [
    "model2.fit(x_train_scale,y_train)"
   ]
  },
  {
   "cell_type": "code",
   "execution_count": 713,
   "id": "aaef5c8f",
   "metadata": {},
   "outputs": [
    {
     "data": {
      "text/plain": [
       "0.821154255074222"
      ]
     },
     "execution_count": 713,
     "metadata": {},
     "output_type": "execute_result"
    }
   ],
   "source": [
    "model2.score(x_test_scale,y_test)"
   ]
  },
  {
   "cell_type": "code",
   "execution_count": 715,
   "id": "47f91c17",
   "metadata": {},
   "outputs": [],
   "source": [
    "from sklearn.linear_model import LinearRegression"
   ]
  },
  {
   "cell_type": "code",
   "execution_count": 716,
   "id": "2d23dfa9",
   "metadata": {},
   "outputs": [],
   "source": [
    "model3=LinearRegression()"
   ]
  },
  {
   "cell_type": "code",
   "execution_count": 717,
   "id": "ceba5c1c",
   "metadata": {},
   "outputs": [
    {
     "data": {
      "text/html": [
       "<style>#sk-container-id-138 {color: black;background-color: white;}#sk-container-id-138 pre{padding: 0;}#sk-container-id-138 div.sk-toggleable {background-color: white;}#sk-container-id-138 label.sk-toggleable__label {cursor: pointer;display: block;width: 100%;margin-bottom: 0;padding: 0.3em;box-sizing: border-box;text-align: center;}#sk-container-id-138 label.sk-toggleable__label-arrow:before {content: \"▸\";float: left;margin-right: 0.25em;color: #696969;}#sk-container-id-138 label.sk-toggleable__label-arrow:hover:before {color: black;}#sk-container-id-138 div.sk-estimator:hover label.sk-toggleable__label-arrow:before {color: black;}#sk-container-id-138 div.sk-toggleable__content {max-height: 0;max-width: 0;overflow: hidden;text-align: left;background-color: #f0f8ff;}#sk-container-id-138 div.sk-toggleable__content pre {margin: 0.2em;color: black;border-radius: 0.25em;background-color: #f0f8ff;}#sk-container-id-138 input.sk-toggleable__control:checked~div.sk-toggleable__content {max-height: 200px;max-width: 100%;overflow: auto;}#sk-container-id-138 input.sk-toggleable__control:checked~label.sk-toggleable__label-arrow:before {content: \"▾\";}#sk-container-id-138 div.sk-estimator input.sk-toggleable__control:checked~label.sk-toggleable__label {background-color: #d4ebff;}#sk-container-id-138 div.sk-label input.sk-toggleable__control:checked~label.sk-toggleable__label {background-color: #d4ebff;}#sk-container-id-138 input.sk-hidden--visually {border: 0;clip: rect(1px 1px 1px 1px);clip: rect(1px, 1px, 1px, 1px);height: 1px;margin: -1px;overflow: hidden;padding: 0;position: absolute;width: 1px;}#sk-container-id-138 div.sk-estimator {font-family: monospace;background-color: #f0f8ff;border: 1px dotted black;border-radius: 0.25em;box-sizing: border-box;margin-bottom: 0.5em;}#sk-container-id-138 div.sk-estimator:hover {background-color: #d4ebff;}#sk-container-id-138 div.sk-parallel-item::after {content: \"\";width: 100%;border-bottom: 1px solid gray;flex-grow: 1;}#sk-container-id-138 div.sk-label:hover label.sk-toggleable__label {background-color: #d4ebff;}#sk-container-id-138 div.sk-serial::before {content: \"\";position: absolute;border-left: 1px solid gray;box-sizing: border-box;top: 0;bottom: 0;left: 50%;z-index: 0;}#sk-container-id-138 div.sk-serial {display: flex;flex-direction: column;align-items: center;background-color: white;padding-right: 0.2em;padding-left: 0.2em;position: relative;}#sk-container-id-138 div.sk-item {position: relative;z-index: 1;}#sk-container-id-138 div.sk-parallel {display: flex;align-items: stretch;justify-content: center;background-color: white;position: relative;}#sk-container-id-138 div.sk-item::before, #sk-container-id-138 div.sk-parallel-item::before {content: \"\";position: absolute;border-left: 1px solid gray;box-sizing: border-box;top: 0;bottom: 0;left: 50%;z-index: -1;}#sk-container-id-138 div.sk-parallel-item {display: flex;flex-direction: column;z-index: 1;position: relative;background-color: white;}#sk-container-id-138 div.sk-parallel-item:first-child::after {align-self: flex-end;width: 50%;}#sk-container-id-138 div.sk-parallel-item:last-child::after {align-self: flex-start;width: 50%;}#sk-container-id-138 div.sk-parallel-item:only-child::after {width: 0;}#sk-container-id-138 div.sk-dashed-wrapped {border: 1px dashed gray;margin: 0 0.4em 0.5em 0.4em;box-sizing: border-box;padding-bottom: 0.4em;background-color: white;}#sk-container-id-138 div.sk-label label {font-family: monospace;font-weight: bold;display: inline-block;line-height: 1.2em;}#sk-container-id-138 div.sk-label-container {text-align: center;}#sk-container-id-138 div.sk-container {/* jupyter's `normalize.less` sets `[hidden] { display: none; }` but bootstrap.min.css set `[hidden] { display: none !important; }` so we also need the `!important` here to be able to override the default hidden behavior on the sphinx rendered scikit-learn.org. See: https://github.com/scikit-learn/scikit-learn/issues/21755 */display: inline-block !important;position: relative;}#sk-container-id-138 div.sk-text-repr-fallback {display: none;}</style><div id=\"sk-container-id-138\" class=\"sk-top-container\"><div class=\"sk-text-repr-fallback\"><pre>LinearRegression()</pre><b>In a Jupyter environment, please rerun this cell to show the HTML representation or trust the notebook. <br />On GitHub, the HTML representation is unable to render, please try loading this page with nbviewer.org.</b></div><div class=\"sk-container\" hidden><div class=\"sk-item\"><div class=\"sk-estimator sk-toggleable\"><input class=\"sk-toggleable__control sk-hidden--visually\" id=\"sk-estimator-id-166\" type=\"checkbox\" checked><label for=\"sk-estimator-id-166\" class=\"sk-toggleable__label sk-toggleable__label-arrow\">LinearRegression</label><div class=\"sk-toggleable__content\"><pre>LinearRegression()</pre></div></div></div></div></div>"
      ],
      "text/plain": [
       "LinearRegression()"
      ]
     },
     "execution_count": 717,
     "metadata": {},
     "output_type": "execute_result"
    }
   ],
   "source": [
    "model3.fit(x_train,y_train)"
   ]
  },
  {
   "cell_type": "code",
   "execution_count": 718,
   "id": "9a5de0ec",
   "metadata": {},
   "outputs": [
    {
     "data": {
      "text/plain": [
       "0.8117287686999615"
      ]
     },
     "execution_count": 718,
     "metadata": {},
     "output_type": "execute_result"
    }
   ],
   "source": [
    "model3.score(x_test,y_test)"
   ]
  },
  {
   "cell_type": "code",
   "execution_count": 719,
   "id": "36ecbbce",
   "metadata": {},
   "outputs": [
    {
     "data": {
      "text/html": [
       "<style>#sk-container-id-139 {color: black;background-color: white;}#sk-container-id-139 pre{padding: 0;}#sk-container-id-139 div.sk-toggleable {background-color: white;}#sk-container-id-139 label.sk-toggleable__label {cursor: pointer;display: block;width: 100%;margin-bottom: 0;padding: 0.3em;box-sizing: border-box;text-align: center;}#sk-container-id-139 label.sk-toggleable__label-arrow:before {content: \"▸\";float: left;margin-right: 0.25em;color: #696969;}#sk-container-id-139 label.sk-toggleable__label-arrow:hover:before {color: black;}#sk-container-id-139 div.sk-estimator:hover label.sk-toggleable__label-arrow:before {color: black;}#sk-container-id-139 div.sk-toggleable__content {max-height: 0;max-width: 0;overflow: hidden;text-align: left;background-color: #f0f8ff;}#sk-container-id-139 div.sk-toggleable__content pre {margin: 0.2em;color: black;border-radius: 0.25em;background-color: #f0f8ff;}#sk-container-id-139 input.sk-toggleable__control:checked~div.sk-toggleable__content {max-height: 200px;max-width: 100%;overflow: auto;}#sk-container-id-139 input.sk-toggleable__control:checked~label.sk-toggleable__label-arrow:before {content: \"▾\";}#sk-container-id-139 div.sk-estimator input.sk-toggleable__control:checked~label.sk-toggleable__label {background-color: #d4ebff;}#sk-container-id-139 div.sk-label input.sk-toggleable__control:checked~label.sk-toggleable__label {background-color: #d4ebff;}#sk-container-id-139 input.sk-hidden--visually {border: 0;clip: rect(1px 1px 1px 1px);clip: rect(1px, 1px, 1px, 1px);height: 1px;margin: -1px;overflow: hidden;padding: 0;position: absolute;width: 1px;}#sk-container-id-139 div.sk-estimator {font-family: monospace;background-color: #f0f8ff;border: 1px dotted black;border-radius: 0.25em;box-sizing: border-box;margin-bottom: 0.5em;}#sk-container-id-139 div.sk-estimator:hover {background-color: #d4ebff;}#sk-container-id-139 div.sk-parallel-item::after {content: \"\";width: 100%;border-bottom: 1px solid gray;flex-grow: 1;}#sk-container-id-139 div.sk-label:hover label.sk-toggleable__label {background-color: #d4ebff;}#sk-container-id-139 div.sk-serial::before {content: \"\";position: absolute;border-left: 1px solid gray;box-sizing: border-box;top: 0;bottom: 0;left: 50%;z-index: 0;}#sk-container-id-139 div.sk-serial {display: flex;flex-direction: column;align-items: center;background-color: white;padding-right: 0.2em;padding-left: 0.2em;position: relative;}#sk-container-id-139 div.sk-item {position: relative;z-index: 1;}#sk-container-id-139 div.sk-parallel {display: flex;align-items: stretch;justify-content: center;background-color: white;position: relative;}#sk-container-id-139 div.sk-item::before, #sk-container-id-139 div.sk-parallel-item::before {content: \"\";position: absolute;border-left: 1px solid gray;box-sizing: border-box;top: 0;bottom: 0;left: 50%;z-index: -1;}#sk-container-id-139 div.sk-parallel-item {display: flex;flex-direction: column;z-index: 1;position: relative;background-color: white;}#sk-container-id-139 div.sk-parallel-item:first-child::after {align-self: flex-end;width: 50%;}#sk-container-id-139 div.sk-parallel-item:last-child::after {align-self: flex-start;width: 50%;}#sk-container-id-139 div.sk-parallel-item:only-child::after {width: 0;}#sk-container-id-139 div.sk-dashed-wrapped {border: 1px dashed gray;margin: 0 0.4em 0.5em 0.4em;box-sizing: border-box;padding-bottom: 0.4em;background-color: white;}#sk-container-id-139 div.sk-label label {font-family: monospace;font-weight: bold;display: inline-block;line-height: 1.2em;}#sk-container-id-139 div.sk-label-container {text-align: center;}#sk-container-id-139 div.sk-container {/* jupyter's `normalize.less` sets `[hidden] { display: none; }` but bootstrap.min.css set `[hidden] { display: none !important; }` so we also need the `!important` here to be able to override the default hidden behavior on the sphinx rendered scikit-learn.org. See: https://github.com/scikit-learn/scikit-learn/issues/21755 */display: inline-block !important;position: relative;}#sk-container-id-139 div.sk-text-repr-fallback {display: none;}</style><div id=\"sk-container-id-139\" class=\"sk-top-container\"><div class=\"sk-text-repr-fallback\"><pre>LinearRegression()</pre><b>In a Jupyter environment, please rerun this cell to show the HTML representation or trust the notebook. <br />On GitHub, the HTML representation is unable to render, please try loading this page with nbviewer.org.</b></div><div class=\"sk-container\" hidden><div class=\"sk-item\"><div class=\"sk-estimator sk-toggleable\"><input class=\"sk-toggleable__control sk-hidden--visually\" id=\"sk-estimator-id-167\" type=\"checkbox\" checked><label for=\"sk-estimator-id-167\" class=\"sk-toggleable__label sk-toggleable__label-arrow\">LinearRegression</label><div class=\"sk-toggleable__content\"><pre>LinearRegression()</pre></div></div></div></div></div>"
      ],
      "text/plain": [
       "LinearRegression()"
      ]
     },
     "execution_count": 719,
     "metadata": {},
     "output_type": "execute_result"
    }
   ],
   "source": [
    "model3.fit(x_train_scale,y_train)"
   ]
  },
  {
   "cell_type": "code",
   "execution_count": 720,
   "id": "5b21b44e",
   "metadata": {},
   "outputs": [
    {
     "data": {
      "text/plain": [
       "0.8021842202929085"
      ]
     },
     "execution_count": 720,
     "metadata": {},
     "output_type": "execute_result"
    }
   ],
   "source": [
    "model3.score(x_test_scale,y_test)"
   ]
  },
  {
   "cell_type": "code",
   "execution_count": 721,
   "id": "32e65b44",
   "metadata": {},
   "outputs": [],
   "source": [
    "from sklearn.preprocessing import PolynomialFeatures"
   ]
  },
  {
   "cell_type": "code",
   "execution_count": 722,
   "id": "3d86d585",
   "metadata": {},
   "outputs": [],
   "source": [
    "from sklearn.pipeline import make_pipeline"
   ]
  },
  {
   "cell_type": "code",
   "execution_count": 723,
   "id": "883218a8",
   "metadata": {},
   "outputs": [],
   "source": [
    "model_0 = make_pipeline(PolynomialFeatures(degree=1), LinearRegression())"
   ]
  },
  {
   "cell_type": "code",
   "execution_count": 724,
   "id": "96598621",
   "metadata": {},
   "outputs": [
    {
     "data": {
      "text/html": [
       "<style>#sk-container-id-140 {color: black;background-color: white;}#sk-container-id-140 pre{padding: 0;}#sk-container-id-140 div.sk-toggleable {background-color: white;}#sk-container-id-140 label.sk-toggleable__label {cursor: pointer;display: block;width: 100%;margin-bottom: 0;padding: 0.3em;box-sizing: border-box;text-align: center;}#sk-container-id-140 label.sk-toggleable__label-arrow:before {content: \"▸\";float: left;margin-right: 0.25em;color: #696969;}#sk-container-id-140 label.sk-toggleable__label-arrow:hover:before {color: black;}#sk-container-id-140 div.sk-estimator:hover label.sk-toggleable__label-arrow:before {color: black;}#sk-container-id-140 div.sk-toggleable__content {max-height: 0;max-width: 0;overflow: hidden;text-align: left;background-color: #f0f8ff;}#sk-container-id-140 div.sk-toggleable__content pre {margin: 0.2em;color: black;border-radius: 0.25em;background-color: #f0f8ff;}#sk-container-id-140 input.sk-toggleable__control:checked~div.sk-toggleable__content {max-height: 200px;max-width: 100%;overflow: auto;}#sk-container-id-140 input.sk-toggleable__control:checked~label.sk-toggleable__label-arrow:before {content: \"▾\";}#sk-container-id-140 div.sk-estimator input.sk-toggleable__control:checked~label.sk-toggleable__label {background-color: #d4ebff;}#sk-container-id-140 div.sk-label input.sk-toggleable__control:checked~label.sk-toggleable__label {background-color: #d4ebff;}#sk-container-id-140 input.sk-hidden--visually {border: 0;clip: rect(1px 1px 1px 1px);clip: rect(1px, 1px, 1px, 1px);height: 1px;margin: -1px;overflow: hidden;padding: 0;position: absolute;width: 1px;}#sk-container-id-140 div.sk-estimator {font-family: monospace;background-color: #f0f8ff;border: 1px dotted black;border-radius: 0.25em;box-sizing: border-box;margin-bottom: 0.5em;}#sk-container-id-140 div.sk-estimator:hover {background-color: #d4ebff;}#sk-container-id-140 div.sk-parallel-item::after {content: \"\";width: 100%;border-bottom: 1px solid gray;flex-grow: 1;}#sk-container-id-140 div.sk-label:hover label.sk-toggleable__label {background-color: #d4ebff;}#sk-container-id-140 div.sk-serial::before {content: \"\";position: absolute;border-left: 1px solid gray;box-sizing: border-box;top: 0;bottom: 0;left: 50%;z-index: 0;}#sk-container-id-140 div.sk-serial {display: flex;flex-direction: column;align-items: center;background-color: white;padding-right: 0.2em;padding-left: 0.2em;position: relative;}#sk-container-id-140 div.sk-item {position: relative;z-index: 1;}#sk-container-id-140 div.sk-parallel {display: flex;align-items: stretch;justify-content: center;background-color: white;position: relative;}#sk-container-id-140 div.sk-item::before, #sk-container-id-140 div.sk-parallel-item::before {content: \"\";position: absolute;border-left: 1px solid gray;box-sizing: border-box;top: 0;bottom: 0;left: 50%;z-index: -1;}#sk-container-id-140 div.sk-parallel-item {display: flex;flex-direction: column;z-index: 1;position: relative;background-color: white;}#sk-container-id-140 div.sk-parallel-item:first-child::after {align-self: flex-end;width: 50%;}#sk-container-id-140 div.sk-parallel-item:last-child::after {align-self: flex-start;width: 50%;}#sk-container-id-140 div.sk-parallel-item:only-child::after {width: 0;}#sk-container-id-140 div.sk-dashed-wrapped {border: 1px dashed gray;margin: 0 0.4em 0.5em 0.4em;box-sizing: border-box;padding-bottom: 0.4em;background-color: white;}#sk-container-id-140 div.sk-label label {font-family: monospace;font-weight: bold;display: inline-block;line-height: 1.2em;}#sk-container-id-140 div.sk-label-container {text-align: center;}#sk-container-id-140 div.sk-container {/* jupyter's `normalize.less` sets `[hidden] { display: none; }` but bootstrap.min.css set `[hidden] { display: none !important; }` so we also need the `!important` here to be able to override the default hidden behavior on the sphinx rendered scikit-learn.org. See: https://github.com/scikit-learn/scikit-learn/issues/21755 */display: inline-block !important;position: relative;}#sk-container-id-140 div.sk-text-repr-fallback {display: none;}</style><div id=\"sk-container-id-140\" class=\"sk-top-container\"><div class=\"sk-text-repr-fallback\"><pre>Pipeline(steps=[(&#x27;polynomialfeatures&#x27;, PolynomialFeatures(degree=1)),\n",
       "                (&#x27;linearregression&#x27;, LinearRegression())])</pre><b>In a Jupyter environment, please rerun this cell to show the HTML representation or trust the notebook. <br />On GitHub, the HTML representation is unable to render, please try loading this page with nbviewer.org.</b></div><div class=\"sk-container\" hidden><div class=\"sk-item sk-dashed-wrapped\"><div class=\"sk-label-container\"><div class=\"sk-label sk-toggleable\"><input class=\"sk-toggleable__control sk-hidden--visually\" id=\"sk-estimator-id-168\" type=\"checkbox\" ><label for=\"sk-estimator-id-168\" class=\"sk-toggleable__label sk-toggleable__label-arrow\">Pipeline</label><div class=\"sk-toggleable__content\"><pre>Pipeline(steps=[(&#x27;polynomialfeatures&#x27;, PolynomialFeatures(degree=1)),\n",
       "                (&#x27;linearregression&#x27;, LinearRegression())])</pre></div></div></div><div class=\"sk-serial\"><div class=\"sk-item\"><div class=\"sk-estimator sk-toggleable\"><input class=\"sk-toggleable__control sk-hidden--visually\" id=\"sk-estimator-id-169\" type=\"checkbox\" ><label for=\"sk-estimator-id-169\" class=\"sk-toggleable__label sk-toggleable__label-arrow\">PolynomialFeatures</label><div class=\"sk-toggleable__content\"><pre>PolynomialFeatures(degree=1)</pre></div></div></div><div class=\"sk-item\"><div class=\"sk-estimator sk-toggleable\"><input class=\"sk-toggleable__control sk-hidden--visually\" id=\"sk-estimator-id-170\" type=\"checkbox\" ><label for=\"sk-estimator-id-170\" class=\"sk-toggleable__label sk-toggleable__label-arrow\">LinearRegression</label><div class=\"sk-toggleable__content\"><pre>LinearRegression()</pre></div></div></div></div></div></div></div>"
      ],
      "text/plain": [
       "Pipeline(steps=[('polynomialfeatures', PolynomialFeatures(degree=1)),\n",
       "                ('linearregression', LinearRegression())])"
      ]
     },
     "execution_count": 724,
     "metadata": {},
     "output_type": "execute_result"
    }
   ],
   "source": [
    "model_0.fit(x_train, y_train)"
   ]
  },
  {
   "cell_type": "code",
   "execution_count": 725,
   "id": "65b9ec92",
   "metadata": {},
   "outputs": [
    {
     "data": {
      "text/plain": [
       "0.8117287686999659"
      ]
     },
     "execution_count": 725,
     "metadata": {},
     "output_type": "execute_result"
    }
   ],
   "source": [
    "model_0.score(x_test, y_test)"
   ]
  },
  {
   "cell_type": "code",
   "execution_count": 726,
   "id": "0dec48af",
   "metadata": {},
   "outputs": [],
   "source": [
    "model_01 = make_pipeline(PolynomialFeatures(degree=2), DecisionTreeRegressor())"
   ]
  },
  {
   "cell_type": "code",
   "execution_count": 727,
   "id": "da79b091",
   "metadata": {},
   "outputs": [
    {
     "data": {
      "text/html": [
       "<style>#sk-container-id-141 {color: black;background-color: white;}#sk-container-id-141 pre{padding: 0;}#sk-container-id-141 div.sk-toggleable {background-color: white;}#sk-container-id-141 label.sk-toggleable__label {cursor: pointer;display: block;width: 100%;margin-bottom: 0;padding: 0.3em;box-sizing: border-box;text-align: center;}#sk-container-id-141 label.sk-toggleable__label-arrow:before {content: \"▸\";float: left;margin-right: 0.25em;color: #696969;}#sk-container-id-141 label.sk-toggleable__label-arrow:hover:before {color: black;}#sk-container-id-141 div.sk-estimator:hover label.sk-toggleable__label-arrow:before {color: black;}#sk-container-id-141 div.sk-toggleable__content {max-height: 0;max-width: 0;overflow: hidden;text-align: left;background-color: #f0f8ff;}#sk-container-id-141 div.sk-toggleable__content pre {margin: 0.2em;color: black;border-radius: 0.25em;background-color: #f0f8ff;}#sk-container-id-141 input.sk-toggleable__control:checked~div.sk-toggleable__content {max-height: 200px;max-width: 100%;overflow: auto;}#sk-container-id-141 input.sk-toggleable__control:checked~label.sk-toggleable__label-arrow:before {content: \"▾\";}#sk-container-id-141 div.sk-estimator input.sk-toggleable__control:checked~label.sk-toggleable__label {background-color: #d4ebff;}#sk-container-id-141 div.sk-label input.sk-toggleable__control:checked~label.sk-toggleable__label {background-color: #d4ebff;}#sk-container-id-141 input.sk-hidden--visually {border: 0;clip: rect(1px 1px 1px 1px);clip: rect(1px, 1px, 1px, 1px);height: 1px;margin: -1px;overflow: hidden;padding: 0;position: absolute;width: 1px;}#sk-container-id-141 div.sk-estimator {font-family: monospace;background-color: #f0f8ff;border: 1px dotted black;border-radius: 0.25em;box-sizing: border-box;margin-bottom: 0.5em;}#sk-container-id-141 div.sk-estimator:hover {background-color: #d4ebff;}#sk-container-id-141 div.sk-parallel-item::after {content: \"\";width: 100%;border-bottom: 1px solid gray;flex-grow: 1;}#sk-container-id-141 div.sk-label:hover label.sk-toggleable__label {background-color: #d4ebff;}#sk-container-id-141 div.sk-serial::before {content: \"\";position: absolute;border-left: 1px solid gray;box-sizing: border-box;top: 0;bottom: 0;left: 50%;z-index: 0;}#sk-container-id-141 div.sk-serial {display: flex;flex-direction: column;align-items: center;background-color: white;padding-right: 0.2em;padding-left: 0.2em;position: relative;}#sk-container-id-141 div.sk-item {position: relative;z-index: 1;}#sk-container-id-141 div.sk-parallel {display: flex;align-items: stretch;justify-content: center;background-color: white;position: relative;}#sk-container-id-141 div.sk-item::before, #sk-container-id-141 div.sk-parallel-item::before {content: \"\";position: absolute;border-left: 1px solid gray;box-sizing: border-box;top: 0;bottom: 0;left: 50%;z-index: -1;}#sk-container-id-141 div.sk-parallel-item {display: flex;flex-direction: column;z-index: 1;position: relative;background-color: white;}#sk-container-id-141 div.sk-parallel-item:first-child::after {align-self: flex-end;width: 50%;}#sk-container-id-141 div.sk-parallel-item:last-child::after {align-self: flex-start;width: 50%;}#sk-container-id-141 div.sk-parallel-item:only-child::after {width: 0;}#sk-container-id-141 div.sk-dashed-wrapped {border: 1px dashed gray;margin: 0 0.4em 0.5em 0.4em;box-sizing: border-box;padding-bottom: 0.4em;background-color: white;}#sk-container-id-141 div.sk-label label {font-family: monospace;font-weight: bold;display: inline-block;line-height: 1.2em;}#sk-container-id-141 div.sk-label-container {text-align: center;}#sk-container-id-141 div.sk-container {/* jupyter's `normalize.less` sets `[hidden] { display: none; }` but bootstrap.min.css set `[hidden] { display: none !important; }` so we also need the `!important` here to be able to override the default hidden behavior on the sphinx rendered scikit-learn.org. See: https://github.com/scikit-learn/scikit-learn/issues/21755 */display: inline-block !important;position: relative;}#sk-container-id-141 div.sk-text-repr-fallback {display: none;}</style><div id=\"sk-container-id-141\" class=\"sk-top-container\"><div class=\"sk-text-repr-fallback\"><pre>Pipeline(steps=[(&#x27;polynomialfeatures&#x27;, PolynomialFeatures()),\n",
       "                (&#x27;decisiontreeregressor&#x27;, DecisionTreeRegressor())])</pre><b>In a Jupyter environment, please rerun this cell to show the HTML representation or trust the notebook. <br />On GitHub, the HTML representation is unable to render, please try loading this page with nbviewer.org.</b></div><div class=\"sk-container\" hidden><div class=\"sk-item sk-dashed-wrapped\"><div class=\"sk-label-container\"><div class=\"sk-label sk-toggleable\"><input class=\"sk-toggleable__control sk-hidden--visually\" id=\"sk-estimator-id-171\" type=\"checkbox\" ><label for=\"sk-estimator-id-171\" class=\"sk-toggleable__label sk-toggleable__label-arrow\">Pipeline</label><div class=\"sk-toggleable__content\"><pre>Pipeline(steps=[(&#x27;polynomialfeatures&#x27;, PolynomialFeatures()),\n",
       "                (&#x27;decisiontreeregressor&#x27;, DecisionTreeRegressor())])</pre></div></div></div><div class=\"sk-serial\"><div class=\"sk-item\"><div class=\"sk-estimator sk-toggleable\"><input class=\"sk-toggleable__control sk-hidden--visually\" id=\"sk-estimator-id-172\" type=\"checkbox\" ><label for=\"sk-estimator-id-172\" class=\"sk-toggleable__label sk-toggleable__label-arrow\">PolynomialFeatures</label><div class=\"sk-toggleable__content\"><pre>PolynomialFeatures()</pre></div></div></div><div class=\"sk-item\"><div class=\"sk-estimator sk-toggleable\"><input class=\"sk-toggleable__control sk-hidden--visually\" id=\"sk-estimator-id-173\" type=\"checkbox\" ><label for=\"sk-estimator-id-173\" class=\"sk-toggleable__label sk-toggleable__label-arrow\">DecisionTreeRegressor</label><div class=\"sk-toggleable__content\"><pre>DecisionTreeRegressor()</pre></div></div></div></div></div></div></div>"
      ],
      "text/plain": [
       "Pipeline(steps=[('polynomialfeatures', PolynomialFeatures()),\n",
       "                ('decisiontreeregressor', DecisionTreeRegressor())])"
      ]
     },
     "execution_count": 727,
     "metadata": {},
     "output_type": "execute_result"
    }
   ],
   "source": [
    "model_01.fit(x_train, y_train)"
   ]
  },
  {
   "cell_type": "code",
   "execution_count": 728,
   "id": "c04ba617",
   "metadata": {},
   "outputs": [
    {
     "data": {
      "text/plain": [
       "0.7226019380451649"
      ]
     },
     "execution_count": 728,
     "metadata": {},
     "output_type": "execute_result"
    }
   ],
   "source": [
    "model_01.score(x_test, y_test)"
   ]
  },
  {
   "cell_type": "code",
   "execution_count": 760,
   "id": "6d7b83ff",
   "metadata": {},
   "outputs": [],
   "source": [
    "from sklearn.pipeline import Pipeline\n",
    "from sklearn.preprocessing import StandardScaler\n",
    "from sklearn.feature_selection import SelectKBest\n",
    "from sklearn.ensemble import RandomForestClassifier\n",
    "\n",
    "pipe = Pipeline([\n",
    "    ('scaler', StandardScaler()),\n",
    "    ('kbest', SelectKBest(k=6)),\n",
    "    ('rf', RandomForestRegressor(n_estimators=10))\n",
    "])\n",
    "\n",
    "\n"
   ]
  },
  {
   "cell_type": "code",
   "execution_count": 761,
   "id": "f701b592",
   "metadata": {},
   "outputs": [
    {
     "name": "stderr",
     "output_type": "stream",
     "text": [
      "C:\\Users\\User\\AppData\\Roaming\\Python\\Python310\\site-packages\\sklearn\\feature_selection\\_univariate_selection.py:113: RuntimeWarning: divide by zero encountered in divide\n",
      "  f = msb / msw\n"
     ]
    },
    {
     "data": {
      "text/html": [
       "<style>#sk-container-id-146 {color: black;background-color: white;}#sk-container-id-146 pre{padding: 0;}#sk-container-id-146 div.sk-toggleable {background-color: white;}#sk-container-id-146 label.sk-toggleable__label {cursor: pointer;display: block;width: 100%;margin-bottom: 0;padding: 0.3em;box-sizing: border-box;text-align: center;}#sk-container-id-146 label.sk-toggleable__label-arrow:before {content: \"▸\";float: left;margin-right: 0.25em;color: #696969;}#sk-container-id-146 label.sk-toggleable__label-arrow:hover:before {color: black;}#sk-container-id-146 div.sk-estimator:hover label.sk-toggleable__label-arrow:before {color: black;}#sk-container-id-146 div.sk-toggleable__content {max-height: 0;max-width: 0;overflow: hidden;text-align: left;background-color: #f0f8ff;}#sk-container-id-146 div.sk-toggleable__content pre {margin: 0.2em;color: black;border-radius: 0.25em;background-color: #f0f8ff;}#sk-container-id-146 input.sk-toggleable__control:checked~div.sk-toggleable__content {max-height: 200px;max-width: 100%;overflow: auto;}#sk-container-id-146 input.sk-toggleable__control:checked~label.sk-toggleable__label-arrow:before {content: \"▾\";}#sk-container-id-146 div.sk-estimator input.sk-toggleable__control:checked~label.sk-toggleable__label {background-color: #d4ebff;}#sk-container-id-146 div.sk-label input.sk-toggleable__control:checked~label.sk-toggleable__label {background-color: #d4ebff;}#sk-container-id-146 input.sk-hidden--visually {border: 0;clip: rect(1px 1px 1px 1px);clip: rect(1px, 1px, 1px, 1px);height: 1px;margin: -1px;overflow: hidden;padding: 0;position: absolute;width: 1px;}#sk-container-id-146 div.sk-estimator {font-family: monospace;background-color: #f0f8ff;border: 1px dotted black;border-radius: 0.25em;box-sizing: border-box;margin-bottom: 0.5em;}#sk-container-id-146 div.sk-estimator:hover {background-color: #d4ebff;}#sk-container-id-146 div.sk-parallel-item::after {content: \"\";width: 100%;border-bottom: 1px solid gray;flex-grow: 1;}#sk-container-id-146 div.sk-label:hover label.sk-toggleable__label {background-color: #d4ebff;}#sk-container-id-146 div.sk-serial::before {content: \"\";position: absolute;border-left: 1px solid gray;box-sizing: border-box;top: 0;bottom: 0;left: 50%;z-index: 0;}#sk-container-id-146 div.sk-serial {display: flex;flex-direction: column;align-items: center;background-color: white;padding-right: 0.2em;padding-left: 0.2em;position: relative;}#sk-container-id-146 div.sk-item {position: relative;z-index: 1;}#sk-container-id-146 div.sk-parallel {display: flex;align-items: stretch;justify-content: center;background-color: white;position: relative;}#sk-container-id-146 div.sk-item::before, #sk-container-id-146 div.sk-parallel-item::before {content: \"\";position: absolute;border-left: 1px solid gray;box-sizing: border-box;top: 0;bottom: 0;left: 50%;z-index: -1;}#sk-container-id-146 div.sk-parallel-item {display: flex;flex-direction: column;z-index: 1;position: relative;background-color: white;}#sk-container-id-146 div.sk-parallel-item:first-child::after {align-self: flex-end;width: 50%;}#sk-container-id-146 div.sk-parallel-item:last-child::after {align-self: flex-start;width: 50%;}#sk-container-id-146 div.sk-parallel-item:only-child::after {width: 0;}#sk-container-id-146 div.sk-dashed-wrapped {border: 1px dashed gray;margin: 0 0.4em 0.5em 0.4em;box-sizing: border-box;padding-bottom: 0.4em;background-color: white;}#sk-container-id-146 div.sk-label label {font-family: monospace;font-weight: bold;display: inline-block;line-height: 1.2em;}#sk-container-id-146 div.sk-label-container {text-align: center;}#sk-container-id-146 div.sk-container {/* jupyter's `normalize.less` sets `[hidden] { display: none; }` but bootstrap.min.css set `[hidden] { display: none !important; }` so we also need the `!important` here to be able to override the default hidden behavior on the sphinx rendered scikit-learn.org. See: https://github.com/scikit-learn/scikit-learn/issues/21755 */display: inline-block !important;position: relative;}#sk-container-id-146 div.sk-text-repr-fallback {display: none;}</style><div id=\"sk-container-id-146\" class=\"sk-top-container\"><div class=\"sk-text-repr-fallback\"><pre>Pipeline(steps=[(&#x27;scaler&#x27;, StandardScaler()), (&#x27;kbest&#x27;, SelectKBest(k=6)),\n",
       "                (&#x27;rf&#x27;, RandomForestRegressor(n_estimators=10))])</pre><b>In a Jupyter environment, please rerun this cell to show the HTML representation or trust the notebook. <br />On GitHub, the HTML representation is unable to render, please try loading this page with nbviewer.org.</b></div><div class=\"sk-container\" hidden><div class=\"sk-item sk-dashed-wrapped\"><div class=\"sk-label-container\"><div class=\"sk-label sk-toggleable\"><input class=\"sk-toggleable__control sk-hidden--visually\" id=\"sk-estimator-id-190\" type=\"checkbox\" ><label for=\"sk-estimator-id-190\" class=\"sk-toggleable__label sk-toggleable__label-arrow\">Pipeline</label><div class=\"sk-toggleable__content\"><pre>Pipeline(steps=[(&#x27;scaler&#x27;, StandardScaler()), (&#x27;kbest&#x27;, SelectKBest(k=6)),\n",
       "                (&#x27;rf&#x27;, RandomForestRegressor(n_estimators=10))])</pre></div></div></div><div class=\"sk-serial\"><div class=\"sk-item\"><div class=\"sk-estimator sk-toggleable\"><input class=\"sk-toggleable__control sk-hidden--visually\" id=\"sk-estimator-id-191\" type=\"checkbox\" ><label for=\"sk-estimator-id-191\" class=\"sk-toggleable__label sk-toggleable__label-arrow\">StandardScaler</label><div class=\"sk-toggleable__content\"><pre>StandardScaler()</pre></div></div></div><div class=\"sk-item\"><div class=\"sk-estimator sk-toggleable\"><input class=\"sk-toggleable__control sk-hidden--visually\" id=\"sk-estimator-id-192\" type=\"checkbox\" ><label for=\"sk-estimator-id-192\" class=\"sk-toggleable__label sk-toggleable__label-arrow\">SelectKBest</label><div class=\"sk-toggleable__content\"><pre>SelectKBest(k=6)</pre></div></div></div><div class=\"sk-item\"><div class=\"sk-estimator sk-toggleable\"><input class=\"sk-toggleable__control sk-hidden--visually\" id=\"sk-estimator-id-193\" type=\"checkbox\" ><label for=\"sk-estimator-id-193\" class=\"sk-toggleable__label sk-toggleable__label-arrow\">RandomForestRegressor</label><div class=\"sk-toggleable__content\"><pre>RandomForestRegressor(n_estimators=10)</pre></div></div></div></div></div></div></div>"
      ],
      "text/plain": [
       "Pipeline(steps=[('scaler', StandardScaler()), ('kbest', SelectKBest(k=6)),\n",
       "                ('rf', RandomForestRegressor(n_estimators=10))])"
      ]
     },
     "execution_count": 761,
     "metadata": {},
     "output_type": "execute_result"
    }
   ],
   "source": [
    "pipe.fit(x_train, y_train)"
   ]
  },
  {
   "cell_type": "code",
   "execution_count": 762,
   "id": "3f47d1ab",
   "metadata": {},
   "outputs": [
    {
     "data": {
      "text/plain": [
       "0.8387840758392073"
      ]
     },
     "execution_count": 762,
     "metadata": {},
     "output_type": "execute_result"
    }
   ],
   "source": [
    "pipe.score(x_test, y_test)"
   ]
  },
  {
   "cell_type": "code",
   "execution_count": 763,
   "id": "35b3c197",
   "metadata": {},
   "outputs": [],
   "source": [
    "from sklearn.pipeline import Pipeline\n",
    "from sklearn.preprocessing import StandardScaler\n",
    "from sklearn.feature_selection import SelectKBest\n",
    "from sklearn.ensemble import RandomForestClassifier\n",
    "\n",
    "pipe = Pipeline([\n",
    "    ('scaler', StandardScaler()),\n",
    "    ('kbest', SelectKBest(k=6)),\n",
    "    ('rf',LinearRegression())\n",
    "])"
   ]
  },
  {
   "cell_type": "code",
   "execution_count": 764,
   "id": "ba446e85",
   "metadata": {},
   "outputs": [
    {
     "name": "stderr",
     "output_type": "stream",
     "text": [
      "C:\\Users\\User\\AppData\\Roaming\\Python\\Python310\\site-packages\\sklearn\\feature_selection\\_univariate_selection.py:113: RuntimeWarning: divide by zero encountered in divide\n",
      "  f = msb / msw\n"
     ]
    },
    {
     "data": {
      "text/html": [
       "<style>#sk-container-id-147 {color: black;background-color: white;}#sk-container-id-147 pre{padding: 0;}#sk-container-id-147 div.sk-toggleable {background-color: white;}#sk-container-id-147 label.sk-toggleable__label {cursor: pointer;display: block;width: 100%;margin-bottom: 0;padding: 0.3em;box-sizing: border-box;text-align: center;}#sk-container-id-147 label.sk-toggleable__label-arrow:before {content: \"▸\";float: left;margin-right: 0.25em;color: #696969;}#sk-container-id-147 label.sk-toggleable__label-arrow:hover:before {color: black;}#sk-container-id-147 div.sk-estimator:hover label.sk-toggleable__label-arrow:before {color: black;}#sk-container-id-147 div.sk-toggleable__content {max-height: 0;max-width: 0;overflow: hidden;text-align: left;background-color: #f0f8ff;}#sk-container-id-147 div.sk-toggleable__content pre {margin: 0.2em;color: black;border-radius: 0.25em;background-color: #f0f8ff;}#sk-container-id-147 input.sk-toggleable__control:checked~div.sk-toggleable__content {max-height: 200px;max-width: 100%;overflow: auto;}#sk-container-id-147 input.sk-toggleable__control:checked~label.sk-toggleable__label-arrow:before {content: \"▾\";}#sk-container-id-147 div.sk-estimator input.sk-toggleable__control:checked~label.sk-toggleable__label {background-color: #d4ebff;}#sk-container-id-147 div.sk-label input.sk-toggleable__control:checked~label.sk-toggleable__label {background-color: #d4ebff;}#sk-container-id-147 input.sk-hidden--visually {border: 0;clip: rect(1px 1px 1px 1px);clip: rect(1px, 1px, 1px, 1px);height: 1px;margin: -1px;overflow: hidden;padding: 0;position: absolute;width: 1px;}#sk-container-id-147 div.sk-estimator {font-family: monospace;background-color: #f0f8ff;border: 1px dotted black;border-radius: 0.25em;box-sizing: border-box;margin-bottom: 0.5em;}#sk-container-id-147 div.sk-estimator:hover {background-color: #d4ebff;}#sk-container-id-147 div.sk-parallel-item::after {content: \"\";width: 100%;border-bottom: 1px solid gray;flex-grow: 1;}#sk-container-id-147 div.sk-label:hover label.sk-toggleable__label {background-color: #d4ebff;}#sk-container-id-147 div.sk-serial::before {content: \"\";position: absolute;border-left: 1px solid gray;box-sizing: border-box;top: 0;bottom: 0;left: 50%;z-index: 0;}#sk-container-id-147 div.sk-serial {display: flex;flex-direction: column;align-items: center;background-color: white;padding-right: 0.2em;padding-left: 0.2em;position: relative;}#sk-container-id-147 div.sk-item {position: relative;z-index: 1;}#sk-container-id-147 div.sk-parallel {display: flex;align-items: stretch;justify-content: center;background-color: white;position: relative;}#sk-container-id-147 div.sk-item::before, #sk-container-id-147 div.sk-parallel-item::before {content: \"\";position: absolute;border-left: 1px solid gray;box-sizing: border-box;top: 0;bottom: 0;left: 50%;z-index: -1;}#sk-container-id-147 div.sk-parallel-item {display: flex;flex-direction: column;z-index: 1;position: relative;background-color: white;}#sk-container-id-147 div.sk-parallel-item:first-child::after {align-self: flex-end;width: 50%;}#sk-container-id-147 div.sk-parallel-item:last-child::after {align-self: flex-start;width: 50%;}#sk-container-id-147 div.sk-parallel-item:only-child::after {width: 0;}#sk-container-id-147 div.sk-dashed-wrapped {border: 1px dashed gray;margin: 0 0.4em 0.5em 0.4em;box-sizing: border-box;padding-bottom: 0.4em;background-color: white;}#sk-container-id-147 div.sk-label label {font-family: monospace;font-weight: bold;display: inline-block;line-height: 1.2em;}#sk-container-id-147 div.sk-label-container {text-align: center;}#sk-container-id-147 div.sk-container {/* jupyter's `normalize.less` sets `[hidden] { display: none; }` but bootstrap.min.css set `[hidden] { display: none !important; }` so we also need the `!important` here to be able to override the default hidden behavior on the sphinx rendered scikit-learn.org. See: https://github.com/scikit-learn/scikit-learn/issues/21755 */display: inline-block !important;position: relative;}#sk-container-id-147 div.sk-text-repr-fallback {display: none;}</style><div id=\"sk-container-id-147\" class=\"sk-top-container\"><div class=\"sk-text-repr-fallback\"><pre>Pipeline(steps=[(&#x27;scaler&#x27;, StandardScaler()), (&#x27;kbest&#x27;, SelectKBest(k=6)),\n",
       "                (&#x27;rf&#x27;, LinearRegression())])</pre><b>In a Jupyter environment, please rerun this cell to show the HTML representation or trust the notebook. <br />On GitHub, the HTML representation is unable to render, please try loading this page with nbviewer.org.</b></div><div class=\"sk-container\" hidden><div class=\"sk-item sk-dashed-wrapped\"><div class=\"sk-label-container\"><div class=\"sk-label sk-toggleable\"><input class=\"sk-toggleable__control sk-hidden--visually\" id=\"sk-estimator-id-194\" type=\"checkbox\" ><label for=\"sk-estimator-id-194\" class=\"sk-toggleable__label sk-toggleable__label-arrow\">Pipeline</label><div class=\"sk-toggleable__content\"><pre>Pipeline(steps=[(&#x27;scaler&#x27;, StandardScaler()), (&#x27;kbest&#x27;, SelectKBest(k=6)),\n",
       "                (&#x27;rf&#x27;, LinearRegression())])</pre></div></div></div><div class=\"sk-serial\"><div class=\"sk-item\"><div class=\"sk-estimator sk-toggleable\"><input class=\"sk-toggleable__control sk-hidden--visually\" id=\"sk-estimator-id-195\" type=\"checkbox\" ><label for=\"sk-estimator-id-195\" class=\"sk-toggleable__label sk-toggleable__label-arrow\">StandardScaler</label><div class=\"sk-toggleable__content\"><pre>StandardScaler()</pre></div></div></div><div class=\"sk-item\"><div class=\"sk-estimator sk-toggleable\"><input class=\"sk-toggleable__control sk-hidden--visually\" id=\"sk-estimator-id-196\" type=\"checkbox\" ><label for=\"sk-estimator-id-196\" class=\"sk-toggleable__label sk-toggleable__label-arrow\">SelectKBest</label><div class=\"sk-toggleable__content\"><pre>SelectKBest(k=6)</pre></div></div></div><div class=\"sk-item\"><div class=\"sk-estimator sk-toggleable\"><input class=\"sk-toggleable__control sk-hidden--visually\" id=\"sk-estimator-id-197\" type=\"checkbox\" ><label for=\"sk-estimator-id-197\" class=\"sk-toggleable__label sk-toggleable__label-arrow\">LinearRegression</label><div class=\"sk-toggleable__content\"><pre>LinearRegression()</pre></div></div></div></div></div></div></div>"
      ],
      "text/plain": [
       "Pipeline(steps=[('scaler', StandardScaler()), ('kbest', SelectKBest(k=6)),\n",
       "                ('rf', LinearRegression())])"
      ]
     },
     "execution_count": 764,
     "metadata": {},
     "output_type": "execute_result"
    }
   ],
   "source": [
    "pipe.fit(x_train, y_train)"
   ]
  },
  {
   "cell_type": "code",
   "execution_count": 765,
   "id": "7688ec9e",
   "metadata": {},
   "outputs": [
    {
     "data": {
      "text/plain": [
       "0.8117287686999617"
      ]
     },
     "execution_count": 765,
     "metadata": {},
     "output_type": "execute_result"
    }
   ],
   "source": [
    "pipe.score(x_test, y_test)"
   ]
  },
  {
   "cell_type": "code",
   "execution_count": 873,
   "id": "3b1a3359",
   "metadata": {},
   "outputs": [],
   "source": [
    "from sklearn.pipeline import Pipeline\n",
    "from sklearn.ensemble import RandomForestClassifier\n",
    "from sklearn.model_selection import RandomizedSearchCV\n",
    "from sklearn.preprocessing import StandardScaler\n",
    "\n",
    "# Define the pipeline\n",
    "pipeline = Pipeline([\n",
    "    ('scaler', StandardScaler()),\n",
    "    ('classifier', RandomForestRegressor()),\n",
    "])\n",
    "\n",
    "# Define the parameter grid to search over\n",
    "param_grid = {\n",
    "    'classifier__n_estimators': [100, 200, 300],\n",
    "    'classifier__max_depth': [5, 10, 15, 20],\n",
    "    'classifier__min_samples_split': [2, 5, 10],\n",
    "    'classifier__min_samples_leaf': [1, 2, 4],\n",
    "}\n",
    "\n",
    "# Define the RandomizedSearchCV object\n",
    "search = RandomizedSearchCV(\n",
    "    pipeline,\n",
    "    param_grid,\n",
    "    n_iter=2,\n",
    "    cv=2,\n",
    "    verbose=5,\n",
    "    n_jobs=-1\n",
    ")\n",
    "\n"
   ]
  },
  {
   "cell_type": "code",
   "execution_count": 874,
   "id": "16f90f23",
   "metadata": {},
   "outputs": [
    {
     "name": "stdout",
     "output_type": "stream",
     "text": [
      "Fitting 2 folds for each of 2 candidates, totalling 4 fits\n"
     ]
    },
    {
     "data": {
      "text/html": [
       "<style>#sk-container-id-171 {color: black;background-color: white;}#sk-container-id-171 pre{padding: 0;}#sk-container-id-171 div.sk-toggleable {background-color: white;}#sk-container-id-171 label.sk-toggleable__label {cursor: pointer;display: block;width: 100%;margin-bottom: 0;padding: 0.3em;box-sizing: border-box;text-align: center;}#sk-container-id-171 label.sk-toggleable__label-arrow:before {content: \"▸\";float: left;margin-right: 0.25em;color: #696969;}#sk-container-id-171 label.sk-toggleable__label-arrow:hover:before {color: black;}#sk-container-id-171 div.sk-estimator:hover label.sk-toggleable__label-arrow:before {color: black;}#sk-container-id-171 div.sk-toggleable__content {max-height: 0;max-width: 0;overflow: hidden;text-align: left;background-color: #f0f8ff;}#sk-container-id-171 div.sk-toggleable__content pre {margin: 0.2em;color: black;border-radius: 0.25em;background-color: #f0f8ff;}#sk-container-id-171 input.sk-toggleable__control:checked~div.sk-toggleable__content {max-height: 200px;max-width: 100%;overflow: auto;}#sk-container-id-171 input.sk-toggleable__control:checked~label.sk-toggleable__label-arrow:before {content: \"▾\";}#sk-container-id-171 div.sk-estimator input.sk-toggleable__control:checked~label.sk-toggleable__label {background-color: #d4ebff;}#sk-container-id-171 div.sk-label input.sk-toggleable__control:checked~label.sk-toggleable__label {background-color: #d4ebff;}#sk-container-id-171 input.sk-hidden--visually {border: 0;clip: rect(1px 1px 1px 1px);clip: rect(1px, 1px, 1px, 1px);height: 1px;margin: -1px;overflow: hidden;padding: 0;position: absolute;width: 1px;}#sk-container-id-171 div.sk-estimator {font-family: monospace;background-color: #f0f8ff;border: 1px dotted black;border-radius: 0.25em;box-sizing: border-box;margin-bottom: 0.5em;}#sk-container-id-171 div.sk-estimator:hover {background-color: #d4ebff;}#sk-container-id-171 div.sk-parallel-item::after {content: \"\";width: 100%;border-bottom: 1px solid gray;flex-grow: 1;}#sk-container-id-171 div.sk-label:hover label.sk-toggleable__label {background-color: #d4ebff;}#sk-container-id-171 div.sk-serial::before {content: \"\";position: absolute;border-left: 1px solid gray;box-sizing: border-box;top: 0;bottom: 0;left: 50%;z-index: 0;}#sk-container-id-171 div.sk-serial {display: flex;flex-direction: column;align-items: center;background-color: white;padding-right: 0.2em;padding-left: 0.2em;position: relative;}#sk-container-id-171 div.sk-item {position: relative;z-index: 1;}#sk-container-id-171 div.sk-parallel {display: flex;align-items: stretch;justify-content: center;background-color: white;position: relative;}#sk-container-id-171 div.sk-item::before, #sk-container-id-171 div.sk-parallel-item::before {content: \"\";position: absolute;border-left: 1px solid gray;box-sizing: border-box;top: 0;bottom: 0;left: 50%;z-index: -1;}#sk-container-id-171 div.sk-parallel-item {display: flex;flex-direction: column;z-index: 1;position: relative;background-color: white;}#sk-container-id-171 div.sk-parallel-item:first-child::after {align-self: flex-end;width: 50%;}#sk-container-id-171 div.sk-parallel-item:last-child::after {align-self: flex-start;width: 50%;}#sk-container-id-171 div.sk-parallel-item:only-child::after {width: 0;}#sk-container-id-171 div.sk-dashed-wrapped {border: 1px dashed gray;margin: 0 0.4em 0.5em 0.4em;box-sizing: border-box;padding-bottom: 0.4em;background-color: white;}#sk-container-id-171 div.sk-label label {font-family: monospace;font-weight: bold;display: inline-block;line-height: 1.2em;}#sk-container-id-171 div.sk-label-container {text-align: center;}#sk-container-id-171 div.sk-container {/* jupyter's `normalize.less` sets `[hidden] { display: none; }` but bootstrap.min.css set `[hidden] { display: none !important; }` so we also need the `!important` here to be able to override the default hidden behavior on the sphinx rendered scikit-learn.org. See: https://github.com/scikit-learn/scikit-learn/issues/21755 */display: inline-block !important;position: relative;}#sk-container-id-171 div.sk-text-repr-fallback {display: none;}</style><div id=\"sk-container-id-171\" class=\"sk-top-container\"><div class=\"sk-text-repr-fallback\"><pre>RandomizedSearchCV(cv=2,\n",
       "                   estimator=Pipeline(steps=[(&#x27;scaler&#x27;, StandardScaler()),\n",
       "                                             (&#x27;classifier&#x27;,\n",
       "                                              RandomForestRegressor())]),\n",
       "                   n_iter=2, n_jobs=-1,\n",
       "                   param_distributions={&#x27;classifier__max_depth&#x27;: [5, 10, 15,\n",
       "                                                                  20],\n",
       "                                        &#x27;classifier__min_samples_leaf&#x27;: [1, 2,\n",
       "                                                                         4],\n",
       "                                        &#x27;classifier__min_samples_split&#x27;: [2, 5,\n",
       "                                                                          10],\n",
       "                                        &#x27;classifier__n_estimators&#x27;: [100, 200,\n",
       "                                                                     300]},\n",
       "                   verbose=5)</pre><b>In a Jupyter environment, please rerun this cell to show the HTML representation or trust the notebook. <br />On GitHub, the HTML representation is unable to render, please try loading this page with nbviewer.org.</b></div><div class=\"sk-container\" hidden><div class=\"sk-item sk-dashed-wrapped\"><div class=\"sk-label-container\"><div class=\"sk-label sk-toggleable\"><input class=\"sk-toggleable__control sk-hidden--visually\" id=\"sk-estimator-id-293\" type=\"checkbox\" ><label for=\"sk-estimator-id-293\" class=\"sk-toggleable__label sk-toggleable__label-arrow\">RandomizedSearchCV</label><div class=\"sk-toggleable__content\"><pre>RandomizedSearchCV(cv=2,\n",
       "                   estimator=Pipeline(steps=[(&#x27;scaler&#x27;, StandardScaler()),\n",
       "                                             (&#x27;classifier&#x27;,\n",
       "                                              RandomForestRegressor())]),\n",
       "                   n_iter=2, n_jobs=-1,\n",
       "                   param_distributions={&#x27;classifier__max_depth&#x27;: [5, 10, 15,\n",
       "                                                                  20],\n",
       "                                        &#x27;classifier__min_samples_leaf&#x27;: [1, 2,\n",
       "                                                                         4],\n",
       "                                        &#x27;classifier__min_samples_split&#x27;: [2, 5,\n",
       "                                                                          10],\n",
       "                                        &#x27;classifier__n_estimators&#x27;: [100, 200,\n",
       "                                                                     300]},\n",
       "                   verbose=5)</pre></div></div></div><div class=\"sk-parallel\"><div class=\"sk-parallel-item\"><div class=\"sk-item\"><div class=\"sk-label-container\"><div class=\"sk-label sk-toggleable\"><input class=\"sk-toggleable__control sk-hidden--visually\" id=\"sk-estimator-id-294\" type=\"checkbox\" ><label for=\"sk-estimator-id-294\" class=\"sk-toggleable__label sk-toggleable__label-arrow\">estimator: Pipeline</label><div class=\"sk-toggleable__content\"><pre>Pipeline(steps=[(&#x27;scaler&#x27;, StandardScaler()),\n",
       "                (&#x27;classifier&#x27;, RandomForestRegressor())])</pre></div></div></div><div class=\"sk-serial\"><div class=\"sk-item\"><div class=\"sk-serial\"><div class=\"sk-item\"><div class=\"sk-estimator sk-toggleable\"><input class=\"sk-toggleable__control sk-hidden--visually\" id=\"sk-estimator-id-295\" type=\"checkbox\" ><label for=\"sk-estimator-id-295\" class=\"sk-toggleable__label sk-toggleable__label-arrow\">StandardScaler</label><div class=\"sk-toggleable__content\"><pre>StandardScaler()</pre></div></div></div><div class=\"sk-item\"><div class=\"sk-estimator sk-toggleable\"><input class=\"sk-toggleable__control sk-hidden--visually\" id=\"sk-estimator-id-296\" type=\"checkbox\" ><label for=\"sk-estimator-id-296\" class=\"sk-toggleable__label sk-toggleable__label-arrow\">RandomForestRegressor</label><div class=\"sk-toggleable__content\"><pre>RandomForestRegressor()</pre></div></div></div></div></div></div></div></div></div></div></div></div>"
      ],
      "text/plain": [
       "RandomizedSearchCV(cv=2,\n",
       "                   estimator=Pipeline(steps=[('scaler', StandardScaler()),\n",
       "                                             ('classifier',\n",
       "                                              RandomForestRegressor())]),\n",
       "                   n_iter=2, n_jobs=-1,\n",
       "                   param_distributions={'classifier__max_depth': [5, 10, 15,\n",
       "                                                                  20],\n",
       "                                        'classifier__min_samples_leaf': [1, 2,\n",
       "                                                                         4],\n",
       "                                        'classifier__min_samples_split': [2, 5,\n",
       "                                                                          10],\n",
       "                                        'classifier__n_estimators': [100, 200,\n",
       "                                                                     300]},\n",
       "                   verbose=5)"
      ]
     },
     "execution_count": 874,
     "metadata": {},
     "output_type": "execute_result"
    }
   ],
   "source": [
    "search.fit(x_train, y_train)"
   ]
  },
  {
   "cell_type": "code",
   "execution_count": 881,
   "id": "99a51a04",
   "metadata": {},
   "outputs": [
    {
     "data": {
      "text/plain": [
       "0.8409377024435153"
      ]
     },
     "execution_count": 881,
     "metadata": {},
     "output_type": "execute_result"
    }
   ],
   "source": [
    "search.score(x_test, y_test)"
   ]
  },
  {
   "cell_type": "code",
   "execution_count": 900,
   "id": "ca4bd11d",
   "metadata": {},
   "outputs": [],
   "source": [
    "humidity_3pm = df.relative_humidity_3pm[:213]\n"
   ]
  },
  {
   "cell_type": "code",
   "execution_count": 901,
   "id": "b0784764",
   "metadata": {},
   "outputs": [
    {
     "data": {
      "text/plain": [
       "<BarContainer object of 213 artists>"
      ]
     },
     "execution_count": 901,
     "metadata": {},
     "output_type": "execute_result"
    },
    {
     "data": {
      "image/png": "[encoded data removed]",
      "text/plain": [
       "<Figure size 640x480 with 1 Axes>"
      ]
     },
     "metadata": {},
     "output_type": "display_data"
    }
   ],
   "source": [
    "plt.bar(humidity_3pm, bar)\n"
   ]
  },
  {
   "cell_type": "code",
   "execution_count": 892,
   "id": "739deb78",
   "metadata": {},
   "outputs": [
    {
     "data": {
      "text/html": [
       "<div>\n",
       "<style scoped>\n",
       "    .dataframe tbody tr th:only-of-type {\n",
       "        vertical-align: middle;\n",
       "    }\n",
       "\n",
       "    .dataframe tbody tr th {\n",
       "        vertical-align: top;\n",
       "    }\n",
       "\n",
       "    .dataframe thead th {\n",
       "        text-align: right;\n",
       "    }\n",
       "</style>\n",
       "<table border=\"1\" class=\"dataframe\">\n",
       "  <thead>\n",
       "    <tr style=\"text-align: right;\">\n",
       "      <th></th>\n",
       "      <th>air_pressure_9am</th>\n",
       "      <th>air_temp_9am</th>\n",
       "      <th>avg_wind_direction_9am</th>\n",
       "      <th>avg_wind_speed_9am</th>\n",
       "      <th>max_wind_direction_9am</th>\n",
       "      <th>max_wind_speed_9am</th>\n",
       "      <th>rain_accumulation_9am</th>\n",
       "      <th>rain_duration_9am</th>\n",
       "      <th>relative_humidity_9am</th>\n",
       "      <th>relative_humidity_3pm</th>\n",
       "    </tr>\n",
       "  </thead>\n",
       "  <tbody>\n",
       "    <tr>\n",
       "      <th>0</th>\n",
       "      <td>918.060000</td>\n",
       "      <td>74.822000</td>\n",
       "      <td>271.100000</td>\n",
       "      <td>2.080354</td>\n",
       "      <td>295.400000</td>\n",
       "      <td>2.863283</td>\n",
       "      <td>0.0</td>\n",
       "      <td>0.0</td>\n",
       "      <td>42.420000</td>\n",
       "      <td>36.160000</td>\n",
       "    </tr>\n",
       "    <tr>\n",
       "      <th>1</th>\n",
       "      <td>917.347688</td>\n",
       "      <td>71.403843</td>\n",
       "      <td>101.935179</td>\n",
       "      <td>2.443009</td>\n",
       "      <td>140.471548</td>\n",
       "      <td>3.533324</td>\n",
       "      <td>0.0</td>\n",
       "      <td>0.0</td>\n",
       "      <td>24.328697</td>\n",
       "      <td>19.426597</td>\n",
       "    </tr>\n",
       "  </tbody>\n",
       "</table>\n",
       "</div>"
      ],
      "text/plain": [
       "   air_pressure_9am  air_temp_9am  avg_wind_direction_9am  avg_wind_speed_9am  \\\n",
       "0        918.060000     74.822000              271.100000            2.080354   \n",
       "1        917.347688     71.403843              101.935179            2.443009   \n",
       "\n",
       "   max_wind_direction_9am  max_wind_speed_9am  rain_accumulation_9am  \\\n",
       "0              295.400000            2.863283                    0.0   \n",
       "1              140.471548            3.533324                    0.0   \n",
       "\n",
       "   rain_duration_9am  relative_humidity_9am  relative_humidity_3pm  \n",
       "0                0.0              42.420000              36.160000  \n",
       "1                0.0              24.328697              19.426597  "
      ]
     },
     "execution_count": 892,
     "metadata": {},
     "output_type": "execute_result"
    }
   ],
   "source": [
    "df.head(2)"
   ]
  },
  {
   "cell_type": "code",
   "execution_count": 910,
   "id": "3fd415e7",
   "metadata": {},
   "outputs": [
    {
     "data": {
      "text/plain": [
       "<Axes: xlabel='relative_humidity_9am', ylabel='relative_humidity_3pm'>"
      ]
     },
     "execution_count": 910,
     "metadata": {},
     "output_type": "execute_result"
    },
    {
     "data": {
      "image/png": "[encoded data removed]",
      "text/plain": [
       "<Figure size 640x480 with 1 Axes>"
      ]
     },
     "metadata": {},
     "output_type": "display_data"
    }
   ],
   "source": [
    "first=df.relative_humidity_9am.head(20)\n",
    "second=df.relative_humidity_3pm.head(20)\n",
    "sns.lineplot(x=first,y=second)"
   ]
  },
  {
   "cell_type": "code",
   "execution_count": 933,
   "id": "c52290fd",
   "metadata": {},
   "outputs": [
    {
     "data": {
      "image/png": "[encoded data removed]",
      "text/plain": [
       "<Figure size 640x480 with 1 Axes>"
      ]
     },
     "metadata": {},
     "output_type": "display_data"
    }
   ],
   "source": [
    "import seaborn as sns\n",
    "import matplotlib.pyplot as plt\n",
    "\n",
    "first = df.relative_humidity_9am.head(20)\n",
    "second = df.relative_humidity_3pm.head(20)\n",
    "\n",
    "data = pd.DataFrame({'9am': first, '3pm': second})\n",
    "\n",
    "\n",
    "data = data.reset_index()\n",
    "\n",
    "\n",
    "data = data.melt('index', var_name='Time', value_name='Relative Humidity')\n",
    "\n",
    "\n",
    "sns.lineplot(data=data, x='index', y='Relative Humidity', hue='Time')\n",
    "\n",
    "\n",
    "\n",
    "plt.ylabel('Relative Humidity')\n",
    "plt.title('Comparison of Relative Humidity at 9am and 3pm')\n",
    "plt.show()\n",
    "\n"
   ]
  },
  {
   "cell_type": "code",
   "execution_count": 927,
   "id": "414bc4e5",
   "metadata": {},
   "outputs": [],
   "source": [
    "columns=['relative_humidity_3pm','relative_humidity_9am']"
   ]
  },
  {
   "cell_type": "code",
   "execution_count": 928,
   "id": "d4dbfd50",
   "metadata": {},
   "outputs": [
    {
     "data": {
      "text/html": [
       "<div>\n",
       "<style scoped>\n",
       "    .dataframe tbody tr th:only-of-type {\n",
       "        vertical-align: middle;\n",
       "    }\n",
       "\n",
       "    .dataframe tbody tr th {\n",
       "        vertical-align: top;\n",
       "    }\n",
       "\n",
       "    .dataframe thead th {\n",
       "        text-align: right;\n",
       "    }\n",
       "</style>\n",
       "<table border=\"1\" class=\"dataframe\">\n",
       "  <thead>\n",
       "    <tr style=\"text-align: right;\">\n",
       "      <th></th>\n",
       "      <th>relative_humidity_3pm</th>\n",
       "      <th>relative_humidity_9am</th>\n",
       "    </tr>\n",
       "  </thead>\n",
       "  <tbody>\n",
       "    <tr>\n",
       "      <th>0</th>\n",
       "      <td>36.160000</td>\n",
       "      <td>42.420000</td>\n",
       "    </tr>\n",
       "    <tr>\n",
       "      <th>1</th>\n",
       "      <td>19.426597</td>\n",
       "      <td>24.328697</td>\n",
       "    </tr>\n",
       "    <tr>\n",
       "      <th>2</th>\n",
       "      <td>14.460000</td>\n",
       "      <td>8.900000</td>\n",
       "    </tr>\n",
       "    <tr>\n",
       "      <th>3</th>\n",
       "      <td>12.742547</td>\n",
       "      <td>12.189102</td>\n",
       "    </tr>\n",
       "    <tr>\n",
       "      <th>4</th>\n",
       "      <td>76.740000</td>\n",
       "      <td>92.410000</td>\n",
       "    </tr>\n",
       "    <tr>\n",
       "      <th>...</th>\n",
       "      <td>...</td>\n",
       "      <td>...</td>\n",
       "    </tr>\n",
       "    <tr>\n",
       "      <th>1090</th>\n",
       "      <td>38.180000</td>\n",
       "      <td>26.020000</td>\n",
       "    </tr>\n",
       "    <tr>\n",
       "      <th>1091</th>\n",
       "      <td>73.340000</td>\n",
       "      <td>90.350000</td>\n",
       "    </tr>\n",
       "    <tr>\n",
       "      <th>1092</th>\n",
       "      <td>52.310000</td>\n",
       "      <td>45.590000</td>\n",
       "    </tr>\n",
       "    <tr>\n",
       "      <th>1093</th>\n",
       "      <td>58.280000</td>\n",
       "      <td>64.840000</td>\n",
       "    </tr>\n",
       "    <tr>\n",
       "      <th>1094</th>\n",
       "      <td>15.100000</td>\n",
       "      <td>14.560000</td>\n",
       "    </tr>\n",
       "  </tbody>\n",
       "</table>\n",
       "<p>1064 rows × 2 columns</p>\n",
       "</div>"
      ],
      "text/plain": [
       "      relative_humidity_3pm  relative_humidity_9am\n",
       "0                 36.160000              42.420000\n",
       "1                 19.426597              24.328697\n",
       "2                 14.460000               8.900000\n",
       "3                 12.742547              12.189102\n",
       "4                 76.740000              92.410000\n",
       "...                     ...                    ...\n",
       "1090              38.180000              26.020000\n",
       "1091              73.340000              90.350000\n",
       "1092              52.310000              45.590000\n",
       "1093              58.280000              64.840000\n",
       "1094              15.100000              14.560000\n",
       "\n",
       "[1064 rows x 2 columns]"
      ]
     },
     "execution_count": 928,
     "metadata": {},
     "output_type": "execute_result"
    }
   ],
   "source": [
    "df[columns]"
   ]
  },
  {
   "cell_type": "code",
   "execution_count": 915,
   "id": "b1df361f",
   "metadata": {},
   "outputs": [
    {
     "data": {
      "text/html": [
       "<div>\n",
       "<style scoped>\n",
       "    .dataframe tbody tr th:only-of-type {\n",
       "        vertical-align: middle;\n",
       "    }\n",
       "\n",
       "    .dataframe tbody tr th {\n",
       "        vertical-align: top;\n",
       "    }\n",
       "\n",
       "    .dataframe thead th {\n",
       "        text-align: right;\n",
       "    }\n",
       "</style>\n",
       "<table border=\"1\" class=\"dataframe\">\n",
       "  <thead>\n",
       "    <tr style=\"text-align: right;\">\n",
       "      <th></th>\n",
       "      <th>air_pressure_9am</th>\n",
       "      <th>air_temp_9am</th>\n",
       "      <th>avg_wind_direction_9am</th>\n",
       "      <th>avg_wind_speed_9am</th>\n",
       "      <th>max_wind_direction_9am</th>\n",
       "      <th>max_wind_speed_9am</th>\n",
       "      <th>rain_accumulation_9am</th>\n",
       "      <th>rain_duration_9am</th>\n",
       "      <th>relative_humidity_9am</th>\n",
       "      <th>relative_humidity_3pm</th>\n",
       "    </tr>\n",
       "  </thead>\n",
       "  <tbody>\n",
       "    <tr>\n",
       "      <th>0</th>\n",
       "      <td>918.060000</td>\n",
       "      <td>74.822000</td>\n",
       "      <td>271.100000</td>\n",
       "      <td>2.080354</td>\n",
       "      <td>295.400000</td>\n",
       "      <td>2.863283</td>\n",
       "      <td>0.0</td>\n",
       "      <td>0.0</td>\n",
       "      <td>42.420000</td>\n",
       "      <td>36.160000</td>\n",
       "    </tr>\n",
       "    <tr>\n",
       "      <th>1</th>\n",
       "      <td>917.347688</td>\n",
       "      <td>71.403843</td>\n",
       "      <td>101.935179</td>\n",
       "      <td>2.443009</td>\n",
       "      <td>140.471548</td>\n",
       "      <td>3.533324</td>\n",
       "      <td>0.0</td>\n",
       "      <td>0.0</td>\n",
       "      <td>24.328697</td>\n",
       "      <td>19.426597</td>\n",
       "    </tr>\n",
       "  </tbody>\n",
       "</table>\n",
       "</div>"
      ],
      "text/plain": [
       "   air_pressure_9am  air_temp_9am  avg_wind_direction_9am  avg_wind_speed_9am  \\\n",
       "0        918.060000     74.822000              271.100000            2.080354   \n",
       "1        917.347688     71.403843              101.935179            2.443009   \n",
       "\n",
       "   max_wind_direction_9am  max_wind_speed_9am  rain_accumulation_9am  \\\n",
       "0              295.400000            2.863283                    0.0   \n",
       "1              140.471548            3.533324                    0.0   \n",
       "\n",
       "   rain_duration_9am  relative_humidity_9am  relative_humidity_3pm  \n",
       "0                0.0              42.420000              36.160000  \n",
       "1                0.0              24.328697              19.426597  "
      ]
     },
     "execution_count": 915,
     "metadata": {},
     "output_type": "execute_result"
    }
   ],
   "source": [
    "df.head(2)"
   ]
  },
  {
   "cell_type": "code",
   "execution_count": 924,
   "id": "581a922a",
   "metadata": {},
   "outputs": [
    {
     "data": {
      "text/plain": [
       "Index(['air_pressure_9am', 'air_temp_9am', 'avg_wind_direction_9am',\n",
       "       'avg_wind_speed_9am', 'max_wind_direction_9am', 'max_wind_speed_9am',\n",
       "       'rain_accumulation_9am', 'rain_duration_9am', 'relative_humidity_9am',\n",
       "       'relative_humidity_3pm'],\n",
       "      dtype='object')"
      ]
     },
     "execution_count": 924,
     "metadata": {},
     "output_type": "execute_result"
    }
   ],
   "source": [
    "df.columns"
   ]
  },
  {
   "cell_type": "code",
   "execution_count": 935,
   "id": "bc2d4c38",
   "metadata": {},
   "outputs": [],
   "source": [
    "pred=search.predict(x_test)"
   ]
  },
  {
   "cell_type": "code",
   "execution_count": 936,
   "id": "8afc4469",
   "metadata": {},
   "outputs": [
    {
     "data": {
      "text/plain": [
       "array([17.57243845, 23.77754529, 16.95008649, 16.23809775, 11.91841954,\n",
       "       16.4803811 , 48.49464826, 26.46887882, 14.47584603,  9.40653724,\n",
       "       24.0250184 , 16.19651861,  9.519366  , 31.14660244, 69.26240659,\n",
       "       14.94165528, 58.35702346, 53.68780015, 11.76686343, 14.65498221,\n",
       "       12.97874143, 21.34095256, 66.97581498, 17.46205321, 74.70343472,\n",
       "       52.00939102, 16.82342456, 36.76437211, 21.33642087, 16.60116126,\n",
       "       15.23191178, 23.87241921, 15.22239994, 16.57384305, 39.86091483,\n",
       "       16.65948581, 59.2497227 , 16.80865784, 18.5235033 , 63.3059451 ,\n",
       "       10.76640843, 15.02593408, 18.54318033, 66.38477922, 61.49880682,\n",
       "       20.5437302 , 48.68767859, 72.14201337, 44.49042717, 10.70604985,\n",
       "       78.60939765, 62.93346575, 11.48115603, 72.91516903, 62.08392586,\n",
       "       76.45409682, 44.29057488, 20.62282615, 20.42891192, 64.02294837,\n",
       "       16.70774834, 15.17955118, 11.71364036, 17.64697472, 45.83503716,\n",
       "       27.29131362, 18.4208507 , 19.48561187, 44.1288649 , 52.78051355,\n",
       "       29.30849223, 18.11050788, 51.59674448, 44.21592687, 48.7511616 ,\n",
       "       79.9215127 , 47.32151614, 53.4624155 , 59.25726656, 26.3796573 ,\n",
       "       18.75162672, 67.76444309, 17.8541254 , 26.61438934, 59.79107825,\n",
       "       19.18905097, 23.18612873, 57.61944194, 29.04241619, 23.67777368,\n",
       "       49.81289783, 16.66850841, 49.45989075, 14.50549918, 66.86044206,\n",
       "       26.67416756, 67.17034298, 15.8326133 , 23.36276116, 26.57944828,\n",
       "       70.94165738, 17.45527987, 80.40403665, 32.24090993, 17.9286429 ,\n",
       "       38.19385379, 24.75122554, 15.26457471, 66.25852718, 25.6905802 ,\n",
       "       12.76291363, 21.13518022, 24.16921558, 12.96065411, 53.60239179,\n",
       "       36.54354668, 63.18385587, 45.50531681, 77.13383103, 12.66684859,\n",
       "       22.37806395, 40.47163421, 66.57457705, 61.24944428, 19.27881255,\n",
       "       42.02096509, 17.36823668, 19.05929126, 21.91498768, 31.99101065,\n",
       "       19.39270086, 23.93809152, 30.13030535, 28.64643014,  9.96692614,\n",
       "       49.23248637, 49.35538668, 30.40631521, 16.87972701, 23.68795133,\n",
       "       30.34141264, 17.06456603, 18.88063582, 78.558013  , 47.44369879,\n",
       "       17.03475024, 13.28221761, 20.42708138, 17.26652423, 15.02218844,\n",
       "       11.73889446, 29.1763011 , 26.18290365, 21.51521139, 24.77429214,\n",
       "       50.99727859, 38.44044377, 49.36757333, 17.74998581, 50.54576354,\n",
       "       16.23919355, 33.43181118, 24.81092724, 20.45618373, 25.03577347,\n",
       "       28.68566477, 15.02218844, 12.2432319 , 71.08293024, 21.25306833,\n",
       "       16.17957236, 18.61009884, 16.6559143 , 19.58078439, 77.90475452,\n",
       "       79.53238779, 25.02273207, 43.11147672, 56.14268016, 16.56988981,\n",
       "       34.77261083, 17.44461617, 76.19047319, 43.50783339, 53.83071621,\n",
       "       72.28141966, 54.43222674, 19.19783723, 44.34388574, 18.97128044,\n",
       "       28.72472229, 19.85879655, 21.0861607 , 15.21248029, 78.42215647,\n",
       "       16.62072307, 23.74517324, 24.97602047, 19.70828239, 18.3825252 ,\n",
       "       31.73416282,  9.21498814, 24.20264126, 15.48349726, 60.06214547,\n",
       "       14.91209476, 21.13816854, 71.12341299, 78.77885676, 38.12668596,\n",
       "       20.31708064, 68.62622195, 23.93336637])"
      ]
     },
     "execution_count": 936,
     "metadata": {},
     "output_type": "execute_result"
    }
   ],
   "source": [
    "pred"
   ]
  },
  {
   "cell_type": "code",
   "execution_count": 938,
   "id": "815279ab",
   "metadata": {},
   "outputs": [
    {
     "data": {
      "text/plain": [
       "(213,)"
      ]
     },
     "execution_count": 938,
     "metadata": {},
     "output_type": "execute_result"
    }
   ],
   "source": [
    "pred.shape"
   ]
  },
  {
   "cell_type": "code",
   "execution_count": 940,
   "id": "bb10c927",
   "metadata": {},
   "outputs": [
    {
     "data": {
      "text/plain": [
       "(213,)"
      ]
     },
     "execution_count": 940,
     "metadata": {},
     "output_type": "execute_result"
    }
   ],
   "source": [
    "y_test.shape"
   ]
  },
  {
   "cell_type": "code",
   "execution_count": 949,
   "id": "1251eaa8",
   "metadata": {},
   "outputs": [
    {
     "data": {
      "text/html": [
       "<div>\n",
       "<style scoped>\n",
       "    .dataframe tbody tr th:only-of-type {\n",
       "        vertical-align: middle;\n",
       "    }\n",
       "\n",
       "    .dataframe tbody tr th {\n",
       "        vertical-align: top;\n",
       "    }\n",
       "\n",
       "    .dataframe thead th {\n",
       "        text-align: right;\n",
       "    }\n",
       "</style>\n",
       "<table border=\"1\" class=\"dataframe\">\n",
       "  <thead>\n",
       "    <tr style=\"text-align: right;\">\n",
       "      <th></th>\n",
       "      <th>air_pressure_9am</th>\n",
       "      <th>air_temp_9am</th>\n",
       "      <th>avg_wind_direction_9am</th>\n",
       "      <th>avg_wind_speed_9am</th>\n",
       "      <th>max_wind_direction_9am</th>\n",
       "      <th>max_wind_speed_9am</th>\n",
       "      <th>rain_accumulation_9am</th>\n",
       "      <th>rain_duration_9am</th>\n",
       "      <th>relative_humidity_9am</th>\n",
       "      <th>relative_humidity_3pm</th>\n",
       "    </tr>\n",
       "  </thead>\n",
       "  <tbody>\n",
       "    <tr>\n",
       "      <th>count</th>\n",
       "      <td>1064.000000</td>\n",
       "      <td>1064.000000</td>\n",
       "      <td>1064.000000</td>\n",
       "      <td>1064.000000</td>\n",
       "      <td>1064.000000</td>\n",
       "      <td>1064.000000</td>\n",
       "      <td>1064.000000</td>\n",
       "      <td>1064.000000</td>\n",
       "      <td>1064.000000</td>\n",
       "      <td>1064.000000</td>\n",
       "    </tr>\n",
       "    <tr>\n",
       "      <th>mean</th>\n",
       "      <td>918.903180</td>\n",
       "      <td>65.022609</td>\n",
       "      <td>142.306756</td>\n",
       "      <td>5.485793</td>\n",
       "      <td>148.480424</td>\n",
       "      <td>6.999714</td>\n",
       "      <td>0.182023</td>\n",
       "      <td>266.393697</td>\n",
       "      <td>34.077440</td>\n",
       "      <td>35.148381</td>\n",
       "    </tr>\n",
       "    <tr>\n",
       "      <th>std</th>\n",
       "      <td>3.179040</td>\n",
       "      <td>11.168033</td>\n",
       "      <td>69.149472</td>\n",
       "      <td>4.534427</td>\n",
       "      <td>67.154911</td>\n",
       "      <td>5.590790</td>\n",
       "      <td>1.534493</td>\n",
       "      <td>1503.092216</td>\n",
       "      <td>25.356668</td>\n",
       "      <td>22.365475</td>\n",
       "    </tr>\n",
       "    <tr>\n",
       "      <th>min</th>\n",
       "      <td>907.990000</td>\n",
       "      <td>36.752000</td>\n",
       "      <td>15.500000</td>\n",
       "      <td>0.693451</td>\n",
       "      <td>28.900000</td>\n",
       "      <td>1.185578</td>\n",
       "      <td>0.000000</td>\n",
       "      <td>0.000000</td>\n",
       "      <td>6.090000</td>\n",
       "      <td>5.300000</td>\n",
       "    </tr>\n",
       "    <tr>\n",
       "      <th>25%</th>\n",
       "      <td>916.595376</td>\n",
       "      <td>57.398000</td>\n",
       "      <td>65.979244</td>\n",
       "      <td>2.245529</td>\n",
       "      <td>76.335351</td>\n",
       "      <td>3.064608</td>\n",
       "      <td>0.000000</td>\n",
       "      <td>0.000000</td>\n",
       "      <td>15.093365</td>\n",
       "      <td>17.360468</td>\n",
       "    </tr>\n",
       "    <tr>\n",
       "      <th>50%</th>\n",
       "      <td>918.942281</td>\n",
       "      <td>65.778479</td>\n",
       "      <td>165.937461</td>\n",
       "      <td>3.869906</td>\n",
       "      <td>176.350000</td>\n",
       "      <td>4.943637</td>\n",
       "      <td>0.000000</td>\n",
       "      <td>0.000000</td>\n",
       "      <td>23.135000</td>\n",
       "      <td>24.371286</td>\n",
       "    </tr>\n",
       "    <tr>\n",
       "      <th>75%</th>\n",
       "      <td>921.169054</td>\n",
       "      <td>73.530872</td>\n",
       "      <td>191.100000</td>\n",
       "      <td>7.264463</td>\n",
       "      <td>201.125000</td>\n",
       "      <td>8.747888</td>\n",
       "      <td>0.000000</td>\n",
       "      <td>0.000000</td>\n",
       "      <td>44.660000</td>\n",
       "      <td>51.922500</td>\n",
       "    </tr>\n",
       "    <tr>\n",
       "      <th>max</th>\n",
       "      <td>929.320000</td>\n",
       "      <td>98.906000</td>\n",
       "      <td>343.400000</td>\n",
       "      <td>23.554978</td>\n",
       "      <td>312.200000</td>\n",
       "      <td>29.840780</td>\n",
       "      <td>24.020000</td>\n",
       "      <td>17704.000000</td>\n",
       "      <td>92.620000</td>\n",
       "      <td>92.250000</td>\n",
       "    </tr>\n",
       "  </tbody>\n",
       "</table>\n",
       "</div>"
      ],
      "text/plain": [
       "       air_pressure_9am  air_temp_9am  avg_wind_direction_9am  \\\n",
       "count       1064.000000   1064.000000             1064.000000   \n",
       "mean         918.903180     65.022609              142.306756   \n",
       "std            3.179040     11.168033               69.149472   \n",
       "min          907.990000     36.752000               15.500000   \n",
       "25%          916.595376     57.398000               65.979244   \n",
       "50%          918.942281     65.778479              165.937461   \n",
       "75%          921.169054     73.530872              191.100000   \n",
       "max          929.320000     98.906000              343.400000   \n",
       "\n",
       "       avg_wind_speed_9am  max_wind_direction_9am  max_wind_speed_9am  \\\n",
       "count         1064.000000             1064.000000         1064.000000   \n",
       "mean             5.485793              148.480424            6.999714   \n",
       "std              4.534427               67.154911            5.590790   \n",
       "min              0.693451               28.900000            1.185578   \n",
       "25%              2.245529               76.335351            3.064608   \n",
       "50%              3.869906              176.350000            4.943637   \n",
       "75%              7.264463              201.125000            8.747888   \n",
       "max             23.554978              312.200000           29.840780   \n",
       "\n",
       "       rain_accumulation_9am  rain_duration_9am  relative_humidity_9am  \\\n",
       "count            1064.000000        1064.000000            1064.000000   \n",
       "mean                0.182023         266.393697              34.077440   \n",
       "std                 1.534493        1503.092216              25.356668   \n",
       "min                 0.000000           0.000000               6.090000   \n",
       "25%                 0.000000           0.000000              15.093365   \n",
       "50%                 0.000000           0.000000              23.135000   \n",
       "75%                 0.000000           0.000000              44.660000   \n",
       "max                24.020000       17704.000000              92.620000   \n",
       "\n",
       "       relative_humidity_3pm  \n",
       "count            1064.000000  \n",
       "mean               35.148381  \n",
       "std                22.365475  \n",
       "min                 5.300000  \n",
       "25%                17.360468  \n",
       "50%                24.371286  \n",
       "75%                51.922500  \n",
       "max                92.250000  "
      ]
     },
     "execution_count": 949,
     "metadata": {},
     "output_type": "execute_result"
    }
   ],
   "source": [
    "df.describe()"
   ]
  },
  {
   "cell_type": "code",
   "execution_count": 962,
   "id": "5adea5c2",
   "metadata": {},
   "outputs": [
    {
     "data": {
      "image/png": "[encoded data removed]",
      "text/plain": [
       "<Figure size 1000x500 with 2 Axes>"
      ]
     },
     "metadata": {},
     "output_type": "display_data"
    }
   ],
   "source": [
    "import seaborn as sns\n",
    "import matplotlib.pyplot as plt\n",
    "\n",
    "columns = ['relative_humidity_9am', 'relative_humidity_3pm']\n",
    "\n",
    "\n",
    "fig, axes = plt.subplots(nrows=1, ncols=len(columns), figsize=(10, 5))\n",
    "\n",
    "\n",
    "for i, column in enumerate(columns):\n",
    "    sns.boxplot(data=df[column], ax=axes[i])\n",
    "    axes[i].set_ylabel('Value')\n",
    "    axes[i].set_title(f'Box Plot - {column}')\n",
    "\n",
    "\n",
    "\n",
    "\n"
   ]
  },
  {
   "cell_type": "code",
   "execution_count": 964,
   "id": "2873db09",
   "metadata": {},
   "outputs": [
    {
     "data": {
      "text/html": [
       "<div>\n",
       "<style scoped>\n",
       "    .dataframe tbody tr th:only-of-type {\n",
       "        vertical-align: middle;\n",
       "    }\n",
       "\n",
       "    .dataframe tbody tr th {\n",
       "        vertical-align: top;\n",
       "    }\n",
       "\n",
       "    .dataframe thead th {\n",
       "        text-align: right;\n",
       "    }\n",
       "</style>\n",
       "<table border=\"1\" class=\"dataframe\">\n",
       "  <thead>\n",
       "    <tr style=\"text-align: right;\">\n",
       "      <th></th>\n",
       "      <th>air_pressure_9am</th>\n",
       "      <th>air_temp_9am</th>\n",
       "      <th>avg_wind_direction_9am</th>\n",
       "      <th>avg_wind_speed_9am</th>\n",
       "      <th>max_wind_direction_9am</th>\n",
       "      <th>max_wind_speed_9am</th>\n",
       "      <th>rain_accumulation_9am</th>\n",
       "      <th>rain_duration_9am</th>\n",
       "      <th>relative_humidity_9am</th>\n",
       "      <th>relative_humidity_3pm</th>\n",
       "    </tr>\n",
       "  </thead>\n",
       "  <tbody>\n",
       "    <tr>\n",
       "      <th>0</th>\n",
       "      <td>918.060000</td>\n",
       "      <td>74.822000</td>\n",
       "      <td>271.100000</td>\n",
       "      <td>2.080354</td>\n",
       "      <td>295.400000</td>\n",
       "      <td>2.863283</td>\n",
       "      <td>0.0</td>\n",
       "      <td>0.0</td>\n",
       "      <td>42.420000</td>\n",
       "      <td>36.160000</td>\n",
       "    </tr>\n",
       "    <tr>\n",
       "      <th>1</th>\n",
       "      <td>917.347688</td>\n",
       "      <td>71.403843</td>\n",
       "      <td>101.935179</td>\n",
       "      <td>2.443009</td>\n",
       "      <td>140.471548</td>\n",
       "      <td>3.533324</td>\n",
       "      <td>0.0</td>\n",
       "      <td>0.0</td>\n",
       "      <td>24.328697</td>\n",
       "      <td>19.426597</td>\n",
       "    </tr>\n",
       "  </tbody>\n",
       "</table>\n",
       "</div>"
      ],
      "text/plain": [
       "   air_pressure_9am  air_temp_9am  avg_wind_direction_9am  avg_wind_speed_9am  \\\n",
       "0        918.060000     74.822000              271.100000            2.080354   \n",
       "1        917.347688     71.403843              101.935179            2.443009   \n",
       "\n",
       "   max_wind_direction_9am  max_wind_speed_9am  rain_accumulation_9am  \\\n",
       "0              295.400000            2.863283                    0.0   \n",
       "1              140.471548            3.533324                    0.0   \n",
       "\n",
       "   rain_duration_9am  relative_humidity_9am  relative_humidity_3pm  \n",
       "0                0.0              42.420000              36.160000  \n",
       "1                0.0              24.328697              19.426597  "
      ]
     },
     "execution_count": 964,
     "metadata": {},
     "output_type": "execute_result"
    }
   ],
   "source": [
    "df.head(2)"
   ]
  },
  {
   "cell_type": "code",
   "execution_count": 965,
   "id": "5df79fc8",
   "metadata": {},
   "outputs": [
    {
     "data": {
      "image/png": "[encoded data removed]",
      "text/plain": [
       "<Figure size 1000x500 with 2 Axes>"
      ]
     },
     "metadata": {},
     "output_type": "display_data"
    }
   ],
   "source": [
    "import seaborn as sns\n",
    "import matplotlib.pyplot as plt\n",
    "\n",
    "columns = ['avg_wind_direction_9am', 'avg_wind_speed_9am']\n",
    "\n",
    "\n",
    "fig, axes = plt.subplots(nrows=1, ncols=len(columns), figsize=(10, 5))\n",
    "\n",
    "\n",
    "for i, column in enumerate(columns):\n",
    "    sns.boxplot(data=df[column], ax=axes[i])\n",
    "    axes[i].set_ylabel('Value')\n",
    "    axes[i].set_title(f'Box Plot - {column}')\n"
   ]
  },
  {
   "cell_type": "code",
   "execution_count": 966,
   "id": "a2c501e9",
   "metadata": {},
   "outputs": [
    {
     "name": "stdout",
     "output_type": "stream",
     "text": [
      "Outliers found in column: air_pressure_9am\n",
      "204    907.99\n",
      "281    929.32\n",
      "342    908.42\n",
      "474    908.97\n",
      "708    909.19\n",
      "Name: air_pressure_9am, dtype: float64\n",
      "\n",
      "Outliers found in column: air_temp_9am\n",
      "720    98.906\n",
      "Name: air_temp_9am, dtype: float64\n",
      "\n",
      "No outliers found in column: avg_wind_direction_9am\n",
      "\n",
      "Outliers found in column: avg_wind_speed_9am\n",
      "2       17.067852\n",
      "61      16.486248\n",
      "67      17.527932\n",
      "97      23.554978\n",
      "104     16.126429\n",
      "          ...    \n",
      "1012    18.698476\n",
      "1017    14.987498\n",
      "1037    18.653986\n",
      "1044    17.188835\n",
      "1078    15.162800\n",
      "Name: avg_wind_speed_9am, Length: 67, dtype: float64\n",
      "\n",
      "No outliers found in column: max_wind_direction_9am\n",
      "\n",
      "Outliers found in column: max_wind_speed_9am\n",
      "2       22.100967\n",
      "61      18.029736\n",
      "67      20.971183\n",
      "71      19.214314\n",
      "97      29.840780\n",
      "          ...    \n",
      "1012    23.377962\n",
      "1017    19.617964\n",
      "1037    23.268404\n",
      "1044    22.195713\n",
      "1078    19.803578\n",
      "Name: max_wind_speed_9am, Length: 86, dtype: float64\n",
      "\n",
      "Outliers found in column: rain_accumulation_9am\n",
      "4       8.900\n",
      "5       0.020\n",
      "11      0.550\n",
      "42      1.530\n",
      "46      0.021\n",
      "        ...  \n",
      "1009    0.010\n",
      "1011    0.010\n",
      "1018    0.010\n",
      "1027    5.272\n",
      "1059    0.080\n",
      "Name: rain_accumulation_9am, Length: 121, dtype: float64\n",
      "\n",
      "Outliers found in column: rain_duration_9am\n",
      "2          20.000000\n",
      "4       14730.000000\n",
      "5         170.000000\n",
      "11       1770.000000\n",
      "27        220.000000\n",
      "            ...     \n",
      "1037       11.024881\n",
      "1039        6.029673\n",
      "1044       19.348384\n",
      "1059      520.000000\n",
      "1076       10.000000\n",
      "Name: rain_duration_9am, Length: 176, dtype: float64\n",
      "\n",
      "Outliers found in column: relative_humidity_9am\n",
      "4       92.41\n",
      "11      90.56\n",
      "26      92.10\n",
      "36      89.77\n",
      "38      91.22\n",
      "        ...  \n",
      "1082    89.80\n",
      "1083    91.03\n",
      "1085    92.30\n",
      "1086    91.11\n",
      "1091    90.35\n",
      "Name: relative_humidity_9am, Length: 74, dtype: float64\n",
      "\n",
      "No outliers found in column: relative_humidity_3pm\n",
      "\n"
     ]
    }
   ],
   "source": [
    "import pandas as pd\n",
    "import numpy as np\n",
    "\n",
    "# Assuming you have a DataFrame called 'df' with multiple columns\n",
    "\n",
    "# Define a function to detect outliers using Tukey's fences method\n",
    "def detect_outliers(data):\n",
    "    Q1 = np.percentile(data, 25)\n",
    "    Q3 = np.percentile(data, 75)\n",
    "    IQR = Q3 - Q1\n",
    "    lower_bound = Q1 - 1.5 * IQR\n",
    "    upper_bound = Q3 + 1.5 * IQR\n",
    "    outliers = data[(data < lower_bound) | (data > upper_bound)]\n",
    "    return outliers\n",
    "\n",
    "# Iterate over each column and find outliers\n",
    "for column in df.columns:\n",
    "    outliers = detect_outliers(df[column])\n",
    "    \n",
    "    if outliers.empty:\n",
    "        print(f\"No outliers found in column: {column}\")\n",
    "    else:\n",
    "        print(f\"Outliers found in column: {column}\")\n",
    "        print(outliers)\n",
    "    print()\n"
   ]
  },
  {
   "cell_type": "code",
   "execution_count": 967,
   "id": "468010a5",
   "metadata": {},
   "outputs": [
    {
     "data": {
      "text/html": [
       "<div>\n",
       "<style scoped>\n",
       "    .dataframe tbody tr th:only-of-type {\n",
       "        vertical-align: middle;\n",
       "    }\n",
       "\n",
       "    .dataframe tbody tr th {\n",
       "        vertical-align: top;\n",
       "    }\n",
       "\n",
       "    .dataframe thead th {\n",
       "        text-align: right;\n",
       "    }\n",
       "</style>\n",
       "<table border=\"1\" class=\"dataframe\">\n",
       "  <thead>\n",
       "    <tr style=\"text-align: right;\">\n",
       "      <th></th>\n",
       "      <th>air_pressure_9am</th>\n",
       "      <th>air_temp_9am</th>\n",
       "      <th>avg_wind_direction_9am</th>\n",
       "      <th>avg_wind_speed_9am</th>\n",
       "      <th>max_wind_direction_9am</th>\n",
       "      <th>max_wind_speed_9am</th>\n",
       "      <th>rain_accumulation_9am</th>\n",
       "      <th>rain_duration_9am</th>\n",
       "      <th>relative_humidity_9am</th>\n",
       "      <th>relative_humidity_3pm</th>\n",
       "    </tr>\n",
       "  </thead>\n",
       "  <tbody>\n",
       "    <tr>\n",
       "      <th>0</th>\n",
       "      <td>918.060000</td>\n",
       "      <td>74.822000</td>\n",
       "      <td>271.100000</td>\n",
       "      <td>2.080354</td>\n",
       "      <td>295.400000</td>\n",
       "      <td>2.863283</td>\n",
       "      <td>0.0</td>\n",
       "      <td>0.0</td>\n",
       "      <td>42.420000</td>\n",
       "      <td>36.160000</td>\n",
       "    </tr>\n",
       "    <tr>\n",
       "      <th>1</th>\n",
       "      <td>917.347688</td>\n",
       "      <td>71.403843</td>\n",
       "      <td>101.935179</td>\n",
       "      <td>2.443009</td>\n",
       "      <td>140.471548</td>\n",
       "      <td>3.533324</td>\n",
       "      <td>0.0</td>\n",
       "      <td>0.0</td>\n",
       "      <td>24.328697</td>\n",
       "      <td>19.426597</td>\n",
       "    </tr>\n",
       "  </tbody>\n",
       "</table>\n",
       "</div>"
      ],
      "text/plain": [
       "   air_pressure_9am  air_temp_9am  avg_wind_direction_9am  avg_wind_speed_9am  \\\n",
       "0        918.060000     74.822000              271.100000            2.080354   \n",
       "1        917.347688     71.403843              101.935179            2.443009   \n",
       "\n",
       "   max_wind_direction_9am  max_wind_speed_9am  rain_accumulation_9am  \\\n",
       "0              295.400000            2.863283                    0.0   \n",
       "1              140.471548            3.533324                    0.0   \n",
       "\n",
       "   rain_duration_9am  relative_humidity_9am  relative_humidity_3pm  \n",
       "0                0.0              42.420000              36.160000  \n",
       "1                0.0              24.328697              19.426597  "
      ]
     },
     "execution_count": 967,
     "metadata": {},
     "output_type": "execute_result"
    }
   ],
   "source": [
    "df.head(2)"
   ]
  },
  {
   "cell_type": "code",
   "execution_count": 971,
   "id": "51b8d7b9",
   "metadata": {},
   "outputs": [
    {
     "data": {
      "text/plain": [
       "Index(['air_pressure_9am', 'air_temp_9am', 'avg_wind_direction_9am',\n",
       "       'avg_wind_speed_9am', 'max_wind_direction_9am', 'max_wind_speed_9am',\n",
       "       'rain_accumulation_9am', 'rain_duration_9am', 'relative_humidity_9am',\n",
       "       'relative_humidity_3pm'],\n",
       "      dtype='object')"
      ]
     },
     "execution_count": 971,
     "metadata": {},
     "output_type": "execute_result"
    }
   ],
   "source": [
    "df.columns"
   ]
  },
  {
   "cell_type": "code",
   "execution_count": 979,
   "id": "4bc7f969",
   "metadata": {},
   "outputs": [
    {
     "data": {
      "text/html": [
       "<div>\n",
       "<style scoped>\n",
       "    .dataframe tbody tr th:only-of-type {\n",
       "        vertical-align: middle;\n",
       "    }\n",
       "\n",
       "    .dataframe tbody tr th {\n",
       "        vertical-align: top;\n",
       "    }\n",
       "\n",
       "    .dataframe thead th {\n",
       "        text-align: right;\n",
       "    }\n",
       "</style>\n",
       "<table border=\"1\" class=\"dataframe\">\n",
       "  <thead>\n",
       "    <tr style=\"text-align: right;\">\n",
       "      <th></th>\n",
       "      <th>air_pressure_9am</th>\n",
       "      <th>air_temp_9am</th>\n",
       "      <th>avg_wind_direction_9am</th>\n",
       "      <th>avg_wind_speed_9am</th>\n",
       "      <th>max_wind_direction_9am</th>\n",
       "      <th>max_wind_speed_9am</th>\n",
       "      <th>rain_accumulation_9am</th>\n",
       "      <th>rain_duration_9am</th>\n",
       "      <th>relative_humidity_9am</th>\n",
       "      <th>relative_humidity_3pm</th>\n",
       "    </tr>\n",
       "  </thead>\n",
       "  <tbody>\n",
       "    <tr>\n",
       "      <th>count</th>\n",
       "      <td>1064.000000</td>\n",
       "      <td>1064.000000</td>\n",
       "      <td>1064.000000</td>\n",
       "      <td>1064.000000</td>\n",
       "      <td>1064.000000</td>\n",
       "      <td>1064.000000</td>\n",
       "      <td>1064.000000</td>\n",
       "      <td>1064.000000</td>\n",
       "      <td>1064.000000</td>\n",
       "      <td>1064.000000</td>\n",
       "    </tr>\n",
       "    <tr>\n",
       "      <th>mean</th>\n",
       "      <td>918.903180</td>\n",
       "      <td>65.022609</td>\n",
       "      <td>142.306756</td>\n",
       "      <td>5.485793</td>\n",
       "      <td>148.480424</td>\n",
       "      <td>6.999714</td>\n",
       "      <td>0.182023</td>\n",
       "      <td>266.393697</td>\n",
       "      <td>34.077440</td>\n",
       "      <td>35.148381</td>\n",
       "    </tr>\n",
       "    <tr>\n",
       "      <th>std</th>\n",
       "      <td>3.179040</td>\n",
       "      <td>11.168033</td>\n",
       "      <td>69.149472</td>\n",
       "      <td>4.534427</td>\n",
       "      <td>67.154911</td>\n",
       "      <td>5.590790</td>\n",
       "      <td>1.534493</td>\n",
       "      <td>1503.092216</td>\n",
       "      <td>25.356668</td>\n",
       "      <td>22.365475</td>\n",
       "    </tr>\n",
       "    <tr>\n",
       "      <th>min</th>\n",
       "      <td>907.990000</td>\n",
       "      <td>36.752000</td>\n",
       "      <td>15.500000</td>\n",
       "      <td>0.693451</td>\n",
       "      <td>28.900000</td>\n",
       "      <td>1.185578</td>\n",
       "      <td>0.000000</td>\n",
       "      <td>0.000000</td>\n",
       "      <td>6.090000</td>\n",
       "      <td>5.300000</td>\n",
       "    </tr>\n",
       "    <tr>\n",
       "      <th>25%</th>\n",
       "      <td>916.595376</td>\n",
       "      <td>57.398000</td>\n",
       "      <td>65.979244</td>\n",
       "      <td>2.245529</td>\n",
       "      <td>76.335351</td>\n",
       "      <td>3.064608</td>\n",
       "      <td>0.000000</td>\n",
       "      <td>0.000000</td>\n",
       "      <td>15.093365</td>\n",
       "      <td>17.360468</td>\n",
       "    </tr>\n",
       "    <tr>\n",
       "      <th>50%</th>\n",
       "      <td>918.942281</td>\n",
       "      <td>65.778479</td>\n",
       "      <td>165.937461</td>\n",
       "      <td>3.869906</td>\n",
       "      <td>176.350000</td>\n",
       "      <td>4.943637</td>\n",
       "      <td>0.000000</td>\n",
       "      <td>0.000000</td>\n",
       "      <td>23.135000</td>\n",
       "      <td>24.371286</td>\n",
       "    </tr>\n",
       "    <tr>\n",
       "      <th>75%</th>\n",
       "      <td>921.169054</td>\n",
       "      <td>73.530872</td>\n",
       "      <td>191.100000</td>\n",
       "      <td>7.264463</td>\n",
       "      <td>201.125000</td>\n",
       "      <td>8.747888</td>\n",
       "      <td>0.000000</td>\n",
       "      <td>0.000000</td>\n",
       "      <td>44.660000</td>\n",
       "      <td>51.922500</td>\n",
       "    </tr>\n",
       "    <tr>\n",
       "      <th>max</th>\n",
       "      <td>929.320000</td>\n",
       "      <td>98.906000</td>\n",
       "      <td>343.400000</td>\n",
       "      <td>23.554978</td>\n",
       "      <td>312.200000</td>\n",
       "      <td>29.840780</td>\n",
       "      <td>24.020000</td>\n",
       "      <td>17704.000000</td>\n",
       "      <td>92.620000</td>\n",
       "      <td>92.250000</td>\n",
       "    </tr>\n",
       "  </tbody>\n",
       "</table>\n",
       "</div>"
      ],
      "text/plain": [
       "       air_pressure_9am  air_temp_9am  avg_wind_direction_9am  \\\n",
       "count       1064.000000   1064.000000             1064.000000   \n",
       "mean         918.903180     65.022609              142.306756   \n",
       "std            3.179040     11.168033               69.149472   \n",
       "min          907.990000     36.752000               15.500000   \n",
       "25%          916.595376     57.398000               65.979244   \n",
       "50%          918.942281     65.778479              165.937461   \n",
       "75%          921.169054     73.530872              191.100000   \n",
       "max          929.320000     98.906000              343.400000   \n",
       "\n",
       "       avg_wind_speed_9am  max_wind_direction_9am  max_wind_speed_9am  \\\n",
       "count         1064.000000             1064.000000         1064.000000   \n",
       "mean             5.485793              148.480424            6.999714   \n",
       "std              4.534427               67.154911            5.590790   \n",
       "min              0.693451               28.900000            1.185578   \n",
       "25%              2.245529               76.335351            3.064608   \n",
       "50%              3.869906              176.350000            4.943637   \n",
       "75%              7.264463              201.125000            8.747888   \n",
       "max             23.554978              312.200000           29.840780   \n",
       "\n",
       "       rain_accumulation_9am  rain_duration_9am  relative_humidity_9am  \\\n",
       "count            1064.000000        1064.000000            1064.000000   \n",
       "mean                0.182023         266.393697              34.077440   \n",
       "std                 1.534493        1503.092216              25.356668   \n",
       "min                 0.000000           0.000000               6.090000   \n",
       "25%                 0.000000           0.000000              15.093365   \n",
       "50%                 0.000000           0.000000              23.135000   \n",
       "75%                 0.000000           0.000000              44.660000   \n",
       "max                24.020000       17704.000000              92.620000   \n",
       "\n",
       "       relative_humidity_3pm  \n",
       "count            1064.000000  \n",
       "mean               35.148381  \n",
       "std                22.365475  \n",
       "min                 5.300000  \n",
       "25%                17.360468  \n",
       "50%                24.371286  \n",
       "75%                51.922500  \n",
       "max                92.250000  "
      ]
     },
     "execution_count": 979,
     "metadata": {},
     "output_type": "execute_result"
    }
   ],
   "source": [
    "df.describe()"
   ]
  },
  {
   "cell_type": "code",
   "execution_count": 1000,
   "id": "9a4ded02",
   "metadata": {},
   "outputs": [
    {
     "data": {
      "image/png": "[encoded data removed]",
      "text/plain": [
       "<Figure size 1500x3000 with 5 Axes>"
      ]
     },
     "metadata": {},
     "output_type": "display_data"
    }
   ],
   "source": [
    "import seaborn as sns\n",
    "import matplotlib.pyplot as plt\n",
    "\n",
    "air_pressure_9am = df[df['air_pressure_9am'] > 907]['air_pressure_9am']\n",
    "air_temp_9am = df[df['air_temp_9am'] < 50]['air_temp_9am']\n",
    "avg_wind_direction_9am = df[df['avg_wind_direction_9am'] < 200]['avg_wind_direction_9am']\n",
    "avg_wind_speed_9am = df[df['avg_wind_speed_9am'] < 15]['avg_wind_speed_9am']\n",
    "max_wind_direction_9am = df[df['max_wind_direction_9am'] < 200]['max_wind_direction_9am']\n",
    "\n",
    "show = [air_pressure_9am, air_temp_9am, avg_wind_direction_9am, avg_wind_speed_9am, max_wind_direction_9am]\n",
    "variables = ['air_pressure_9am', 'air_temp_9am', 'avg_wind_direction_9am', 'avg_wind_speed_9am', 'max_wind_direction_9am']\n",
    "\n",
    "plt.figure(figsize=(15, 30))\n",
    "for i, col in enumerate(show):\n",
    "    plt.subplot(5, 2, i + 1)\n",
    "    sns.histplot(x=col)\n",
    "    plt.xlabel('Value')\n",
    "    plt.ylabel('Frequency')\n",
    "    plt.title(f'Histogram of {variables[i]}')\n",
    "\n"
   ]
  },
  {
   "cell_type": "code",
   "execution_count": null,
   "id": "4a6d2f84",
   "metadata": {},
   "outputs": [],
   "source": []
  },
  {
   "cell_type": "code",
   "execution_count": null,
   "id": "62771a7d",
   "metadata": {},
   "outputs": [],
   "source": []
  }
 ],
 "metadata": {
  "kernelspec": {
   "display_name": "Python 3 (ipykernel)",
   "language": "python",
   "name": "python3"
  },
  "language_info": {
   "codemirror_mode": {
    "name": "ipython",
    "version": 3
   },
   "file_extension": ".py",
   "mimetype": "text/x-python",
   "name": "python",
   "nbconvert_exporter": "python",
   "pygments_lexer": "ipython3",
   "version": "3.10.9"
  },
  "varInspector": {
   "cols": {
    "lenName": 16,
    "lenType": 16,
    "lenVar": 40
   },
   "kernels_config": {
    "python": {
     "delete_cmd_postfix": "",
     "delete_cmd_prefix": "del ",
     "library": "var_list.py",
     "varRefreshCmd": "print(var_dic_list())"
    },
    "r": {
     "delete_cmd_postfix": ") ",
     "delete_cmd_prefix": "rm(",
     "library": "var_list.r",
     "varRefreshCmd": "cat(var_dic_list()) "
    }
   },
   "types_to_exclude": [
    "module",
    "function",
    "builtin_function_or_method",
    "instance",
    "_Feature"
   ],
   "window_display": false
  }
 },
 "nbformat": 4,
 "nbformat_minor": 5
}
